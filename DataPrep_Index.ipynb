{
 "cells": [
  {
   "cell_type": "markdown",
   "id": "d435030b",
   "metadata": {},
   "source": [
    "# Notebook ① – Data Preparation & Index Build"
   ]
  },
  {
   "cell_type": "markdown",
   "id": "e393c899",
   "metadata": {},
   "source": [
    "Prerequisites  \n",
    "```bash\n",
    "pip install pandas pyarrow llama-index chromadb sentence-transformers\n",
    "```"
   ]
  },
  {
   "cell_type": "code",
   "execution_count": 1,
   "id": "4530517e",
   "metadata": {},
   "outputs": [
    {
     "name": "stdout",
     "output_type": "stream",
     "text": [
      "Found 5 pickup + 5 delivery CSVs\n"
     ]
    }
   ],
   "source": [
    "import glob, json, os, pandas as pd\n",
    "from pathlib import Path\n",
    "\n",
    "from llama_index.core import Document, ServiceContext\n",
    "from llama_index.vector_stores.chroma import ChromaVectorStore\n",
    "from llama_index.core.embeddings.utils import resolve_embed_model\n",
    "\n",
    "\n",
    "DATA_DIR = Path('data')\n",
    "PICKUP_FILES = glob.glob(str(DATA_DIR/'pickup'/'*.csv'))\n",
    "DELIVERY_FILES = glob.glob(str(DATA_DIR/'delivery'/'*.csv'))\n",
    "print(f'Found {len(PICKUP_FILES)} pickup + {len(DELIVERY_FILES)} delivery CSVs')"
   ]
  },
  {
   "cell_type": "code",
   "execution_count": 2,
   "id": "7ce711ed",
   "metadata": {},
   "outputs": [
    {
     "name": "stdout",
     "output_type": "stream",
     "text": [
      "   order_id  region_id       city  courier_id     accept_time  \\\n",
      "0    483671          3  Chongqing        1518  08-14 07:57:00   \n",
      "1   1746131          3  Chongqing        4706  10-09 07:46:00   \n",
      "2   2301722          3  Chongqing        4706  10-09 13:57:00   \n",
      "3   3788723          3  Chongqing        4706  05-19 08:13:00   \n",
      "4    713435          3  Chongqing        4706  05-22 08:16:00   \n",
      "\n",
      "  time_window_start time_window_end        lng       lat  aoi_id  ...  \\\n",
      "0    08-14 09:00:00  08-14 11:00:00  106.46877  29.47204     218  ...   \n",
      "1    10-09 09:00:00  10-09 11:00:00  106.46872  29.47200     218  ...   \n",
      "2    10-09 13:57:00  10-09 15:57:00  106.46869  29.47191     218  ...   \n",
      "3    05-19 11:00:00  05-19 13:00:00  106.46878  29.47208     218  ...   \n",
      "4    05-22 09:00:00  05-22 11:00:00  106.46813  29.47228     218  ...   \n",
      "\n",
      "   pickup_gps_lng pickup_gps_lat accept_gps_time  accept_gps_lng  \\\n",
      "0             NaN            NaN             NaN             NaN   \n",
      "1             NaN            NaN             NaN             NaN   \n",
      "2       106.46821       29.46771  10-09 13:56:00       106.46929   \n",
      "3             NaN            NaN             NaN             NaN   \n",
      "4       106.46827       29.47270             NaN             NaN   \n",
      "\n",
      "   accept_gps_lat    ds  delivery_time  delivery_gps_time  delivery_gps_lng  \\\n",
      "0             NaN   814            NaN                NaN               NaN   \n",
      "1             NaN  1009            NaN                NaN               NaN   \n",
      "2        29.47231  1009            NaN                NaN               NaN   \n",
      "3             NaN   519            NaN                NaN               NaN   \n",
      "4             NaN   522            NaN                NaN               NaN   \n",
      "\n",
      "  delivery_gps_lat  \n",
      "0              NaN  \n",
      "1              NaN  \n",
      "2              NaN  \n",
      "3              NaN  \n",
      "4              NaN  \n",
      "\n",
      "[5 rows x 23 columns]\n"
     ]
    }
   ],
   "source": [
    "def load_csvs(files):\n",
    "    dfs = [pd.read_csv(f) for f in files]\n",
    "    return pd.concat(dfs, ignore_index=True)\n",
    "\n",
    "pickup_df = load_csvs(PICKUP_FILES)\n",
    "delivery_df = load_csvs(DELIVERY_FILES)\n",
    "df = pd.concat([pickup_df, delivery_df], ignore_index=True)\n",
    "print(df.head())"
   ]
  },
  {
   "cell_type": "code",
   "execution_count": 3,
   "id": "66fd2500",
   "metadata": {},
   "outputs": [],
   "source": [
    "# Normalise\n",
    "# Step 1: Clean and restore string timestamps\n",
    "df['accept_time'] = df['accept_time'].astype(str).str.strip()\n",
    "\n",
    "# Step 2: Add year and parse as datetime\n",
    "df['accept_time'] = pd.to_datetime(\n",
    "    '2023-' + df['accept_time'],\n",
    "    format='%Y-%m-%d %H:%M:%S',\n",
    "    errors='coerce',\n",
    "    utc=True\n",
    ")\n",
    "\n",
    "# Step 3: Optional ISO string version\n",
    "df['accept_time_iso'] = df['accept_time'].astype(str)\n",
    "\n",
    "# Step 4: Normalize courier_id\n",
    "df['courier_id'] = df['courier_id'].astype(str).str.zfill(6)\n",
    "\n",
    "# Step 5: Sort\n",
    "df = df.sort_values('accept_time').reset_index(drop=True)\n"
   ]
  },
  {
   "cell_type": "code",
   "execution_count": 4,
   "id": "538405f8",
   "metadata": {},
   "outputs": [
    {
     "name": "stdout",
     "output_type": "stream",
     "text": [
      "0\n"
     ]
    }
   ],
   "source": [
    "print(df['accept_time'].isna().sum())"
   ]
  },
  {
   "cell_type": "code",
   "execution_count": 5,
   "id": "8fad36ef",
   "metadata": {},
   "outputs": [
    {
     "name": "stdout",
     "output_type": "stream",
     "text": [
      "['2023-04-16 12:33:00+00:00', '2023-04-24 08:18:00+00:00', '2023-04-24 13:05:00+00:00', '2023-04-26 08:13:00+00:00', '2023-04-26 08:37:00+00:00', '2023-04-26 08:40:00+00:00', '2023-04-26 08:41:00+00:00', '2023-04-27 08:38:00+00:00', '2023-04-27 08:49:00+00:00', '2023-04-27 10:55:00+00:00']\n"
     ]
    }
   ],
   "source": [
    "print(df['accept_time'].astype(str).head(10).tolist())"
   ]
  },
  {
   "cell_type": "code",
   "execution_count": 9,
   "id": "c1e20bf1",
   "metadata": {},
   "outputs": [
    {
     "name": "stdout",
     "output_type": "stream",
     "text": [
      "🟢 Parsed rows: 10650808\n",
      "🔴 Failed rows: 0\n"
     ]
    }
   ],
   "source": [
    "print(\"🟢 Parsed rows:\", df['accept_time'].notna().sum())\n",
    "print(\"🔴 Failed rows:\", df['accept_time'].isna().sum())"
   ]
  },
  {
   "cell_type": "code",
   "execution_count": 7,
   "id": "62b2ec05",
   "metadata": {},
   "outputs": [
    {
     "name": "stdout",
     "output_type": "stream",
     "text": [
      "Created 594,603 documents\n"
     ]
    }
   ],
   "source": [
    "# Chunk into courier-day docs\n",
    "grouped = df.groupby([df['courier_id'], df['accept_time'].dt.date])\n",
    "docs = []\n",
    "for (cid, day), grp in grouped:\n",
    "    docs.append(\n",
    "        Document(\n",
    "            text=grp.to_json(orient='records'),\n",
    "            metadata={'courier': cid, 'date': str(day)}\n",
    "        )\n",
    "    )\n",
    "print(f'Created {len(docs):,} documents')    "
   ]
  },
  {
   "cell_type": "code",
   "execution_count": 8,
   "id": "e50df63e",
   "metadata": {},
   "outputs": [
    {
     "name": "stdout",
     "output_type": "stream",
     "text": [
      "{'courier': '000000', 'date': '2023-06-20'}\n",
      "{'order_id': 4054541, 'region_id': 29, 'city': 'Shanghai', 'courier_id': '000000', 'accept_time': 1687279140000, 'time_window_start': None, 'time_window_end': None, 'lng': 121.41333, 'lat': 31.25387, 'aoi_id': 27388, 'aoi_type': 1, 'pickup_time': None, 'pickup_gps_time': None, 'pickup_gps_lng': None, 'pickup_gps_lat': None, 'accept_gps_time': '06-20 16:39:00', 'accept_gps_lng': 121.40005, 'accept_gps_lat': 31.25108, 'ds': 620, 'delivery_time': '06-20 18:39:00', 'delivery_gps_time': '06-20 18:39:00', 'delivery_gps_lng': 121.39989, 'delivery_gps_lat': 31.25093, 'accept_time_iso': '2023-06-20 16:39:00+00:00'}\n"
     ]
    }
   ],
   "source": [
    "print(docs[0].metadata)\n",
    "print(json.loads(docs[0].text)[0])  # preview 1st row in first doc"
   ]
  },
  {
   "cell_type": "code",
   "execution_count": 19,
   "id": "611dd859",
   "metadata": {},
   "outputs": [
    {
     "name": "stdout",
     "output_type": "stream",
     "text": [
      "✅ Saved documents to docs_594k.json\n"
     ]
    }
   ],
   "source": [
    "import json\n",
    "\n",
    "json_docs = [\n",
    "    {\"text\": d.text, \"metadata\": d.metadata} for d in docs\n",
    "]\n",
    "with open(\"docs_594k.json\", \"w\", encoding=\"utf-8\") as f:\n",
    "    json.dump(json_docs, f, ensure_ascii=False)\n",
    "\n",
    "print(\"✅ Saved documents to docs_594k.json\")\n"
   ]
  },
  {
   "cell_type": "code",
   "execution_count": 1,
   "id": "24724909",
   "metadata": {},
   "outputs": [],
   "source": [
    "import json\n",
    "from llama_index.core import Document\n",
    "\n",
    "with open(\"docs_594k.json\", \"r\", encoding=\"utf-8\") as f:\n",
    "    json_docs = json.load(f)\n",
    "\n",
    "# Recreate Document objects\n",
    "docs = [Document(text=entry[\"text\"], metadata=entry[\"metadata\"]) for entry in json_docs]\n"
   ]
  },
  {
   "cell_type": "code",
   "execution_count": 2,
   "id": "6aaec704",
   "metadata": {},
   "outputs": [
    {
     "name": "stdout",
     "output_type": "stream",
     "text": [
      "✅ CUDA GPU available: NVIDIA GeForce RTX 5060 Ti\n"
     ]
    }
   ],
   "source": [
    "import torch\n",
    "\n",
    "if torch.cuda.is_available():\n",
    "    print(\"✅ CUDA GPU available:\", torch.cuda.get_device_name(0))\n",
    "else:\n",
    "    print(\"❌ GPU not available, using CPU\")\n"
   ]
  },
  {
   "cell_type": "code",
   "execution_count": 3,
   "id": "53f71a9d",
   "metadata": {},
   "outputs": [
    {
     "name": "stderr",
     "output_type": "stream",
     "text": [
      "c:\\Users\\Admin\\Documents\\Research LaDe\\lade_rag_pipeline\\.venv\\Lib\\site-packages\\tqdm\\auto.py:21: TqdmWarning: IProgress not found. Please update jupyter and ipywidgets. See https://ipywidgets.readthedocs.io/en/stable/user_install.html\n",
      "  from .autonotebook import tqdm as notebook_tqdm\n"
     ]
    }
   ],
   "source": [
    "# --- Imports & Config ---\n",
    "import json\n",
    "import os\n",
    "import time\n",
    "from tqdm import tqdm\n",
    "from sentence_transformers import SentenceTransformer\n",
    "from llama_index.embeddings.huggingface import HuggingFaceEmbedding\n",
    "from llama_index.core import Settings, VectorStoreIndex, Document\n",
    "from llama_index.vector_stores.chroma import ChromaVectorStore\n",
    "import chromadb\n",
    "\n",
    "# --- Load saved documents ---\n",
    "with open(\"docs_594k.json\", \"r\", encoding=\"utf-8\") as f:\n",
    "    json_docs = json.load(f)\n",
    "docs = [Document(text=d[\"text\"], metadata=d[\"metadata\"]) for d in json_docs]\n",
    "\n",
    "# --- Set up HuggingFace embedding with GPU + large batch ---\n",
    "embed_model = HuggingFaceEmbedding(\n",
    "    model_name=\"intfloat/e5-base-v2\",\n",
    "    embed_batch_size=256,\n",
    "    device=\"cuda\"  # ✅ explicitly use GPU\n",
    ")\n",
    "Settings.embed_model = embed_model\n",
    "Settings.chunk_size = 1024\n",
    "\n",
    "# --- Set up Chroma vector store ---\n",
    "client = chromadb.PersistentClient(path=\"lade_chroma\")\n",
    "collection = client.get_or_create_collection(\"lade\")\n",
    "vector_store = ChromaVectorStore(chroma_collection=collection)\n",
    "\n",
    "# --- Resume tracking ---\n",
    "batch_size = 10000  # Smaller chunk for test speed; raise to 50_000 later\n",
    "total_chunks = (len(docs) + batch_size - 1) // batch_size\n",
    "checkpoint_file = \"embedding_progress.json\"\n",
    "\n",
    "# --- Load completed chunks ---\n",
    "if os.path.exists(checkpoint_file):\n",
    "    with open(checkpoint_file, \"r\") as f:\n",
    "        completed = set(json.load(f))\n",
    "else:\n",
    "    completed = set()\n",
    "\n"
   ]
  },
  {
   "cell_type": "markdown",
   "id": "e220c2d0",
   "metadata": {},
   "source": [
    "> **Next**: open `SyntheticDataset_Creator.ipynb` to build the gold Q‑A set."
   ]
  },
  {
   "cell_type": "code",
   "execution_count": 4,
   "id": "cc3d8c95",
   "metadata": {},
   "outputs": [
    {
     "name": "stderr",
     "output_type": "stream",
     "text": [
      "Parsing nodes: 100%|██████████| 10000/10000 [00:44<00:00, 225.25it/s]\n",
      "Generating embeddings: 100%|██████████| 2048/2048 [00:45<00:00, 45.12it/s]\n",
      "Generating embeddings: 100%|██████████| 2048/2048 [00:44<00:00, 45.58it/s]\n",
      "Generating embeddings: 100%|██████████| 2048/2048 [00:44<00:00, 45.57it/s]\n",
      "Generating embeddings: 100%|██████████| 2048/2048 [00:45<00:00, 45.39it/s]\n",
      "Generating embeddings: 100%|██████████| 2048/2048 [00:45<00:00, 45.41it/s]\n",
      "Generating embeddings: 100%|██████████| 2048/2048 [00:45<00:00, 45.39it/s]\n",
      "Generating embeddings: 100%|██████████| 2048/2048 [00:45<00:00, 45.38it/s]\n",
      "Generating embeddings: 100%|██████████| 2048/2048 [00:45<00:00, 45.31it/s]\n",
      "Generating embeddings: 100%|██████████| 2048/2048 [00:45<00:00, 45.31it/s]\n",
      "Generating embeddings: 100%|██████████| 2048/2048 [00:45<00:00, 45.01it/s]\n",
      "Generating embeddings: 100%|██████████| 2048/2048 [00:45<00:00, 44.92it/s]\n",
      "Generating embeddings: 100%|██████████| 2048/2048 [00:45<00:00, 44.96it/s]\n",
      "Generating embeddings: 100%|██████████| 2048/2048 [00:45<00:00, 45.31it/s]\n",
      "Generating embeddings: 100%|██████████| 2048/2048 [00:45<00:00, 45.37it/s]\n",
      "Generating embeddings: 100%|██████████| 2048/2048 [00:45<00:00, 45.40it/s]\n",
      "Generating embeddings: 100%|██████████| 2048/2048 [00:45<00:00, 45.39it/s]\n",
      "Generating embeddings: 100%|██████████| 2048/2048 [00:45<00:00, 45.35it/s]\n",
      "Generating embeddings: 100%|██████████| 2048/2048 [00:45<00:00, 45.39it/s]\n",
      "Generating embeddings: 100%|██████████| 2048/2048 [00:45<00:00, 45.35it/s]\n",
      "Generating embeddings: 100%|██████████| 2048/2048 [00:45<00:00, 45.35it/s]\n",
      "Generating embeddings: 100%|██████████| 2048/2048 [00:45<00:00, 45.35it/s]\n",
      "Generating embeddings: 100%|██████████| 2048/2048 [00:45<00:00, 45.34it/s]\n",
      "Generating embeddings: 100%|██████████| 2048/2048 [00:45<00:00, 45.35it/s]\n",
      "Generating embeddings: 100%|██████████| 2048/2048 [00:45<00:00, 45.32it/s]\n",
      "Generating embeddings: 100%|██████████| 2048/2048 [00:45<00:00, 45.27it/s]\n",
      "Generating embeddings: 100%|██████████| 1389/1389 [00:30<00:00, 45.19it/s]\n",
      "Embedding chunks:  35%|███▌      | 21/60 [20:15<37:36, 57.87s/it]"
     ]
    },
    {
     "name": "stdout",
     "output_type": "stream",
     "text": [
      "✅ Finished chunk 20 (200000–210000) in 20.25 min\n"
     ]
    },
    {
     "name": "stderr",
     "output_type": "stream",
     "text": [
      "Parsing nodes: 100%|██████████| 10000/10000 [00:55<00:00, 181.27it/s]\n",
      "Generating embeddings: 100%|██████████| 2048/2048 [00:45<00:00, 45.32it/s]\n",
      "Generating embeddings: 100%|██████████| 2048/2048 [00:45<00:00, 45.33it/s]\n",
      "Generating embeddings: 100%|██████████| 2048/2048 [00:45<00:00, 45.34it/s]\n",
      "Generating embeddings: 100%|██████████| 2048/2048 [00:45<00:00, 45.30it/s]\n",
      "Generating embeddings: 100%|██████████| 2048/2048 [00:45<00:00, 45.29it/s]\n",
      "Generating embeddings: 100%|██████████| 2048/2048 [00:45<00:00, 45.27it/s]\n",
      "Generating embeddings: 100%|██████████| 2048/2048 [00:45<00:00, 45.26it/s]\n",
      "Generating embeddings: 100%|██████████| 2048/2048 [00:45<00:00, 45.25it/s]\n",
      "Generating embeddings: 100%|██████████| 2048/2048 [00:45<00:00, 45.24it/s]\n",
      "Generating embeddings: 100%|██████████| 2048/2048 [00:45<00:00, 45.26it/s]\n",
      "Generating embeddings: 100%|██████████| 2048/2048 [00:45<00:00, 45.21it/s]\n",
      "Generating embeddings: 100%|██████████| 2048/2048 [00:45<00:00, 45.15it/s]\n",
      "Generating embeddings: 100%|██████████| 2048/2048 [00:45<00:00, 45.17it/s]\n",
      "Generating embeddings: 100%|██████████| 2048/2048 [00:45<00:00, 45.21it/s]\n",
      "Generating embeddings: 100%|██████████| 2048/2048 [00:45<00:00, 45.11it/s]\n",
      "Generating embeddings: 100%|██████████| 2048/2048 [00:45<00:00, 45.14it/s]\n",
      "Generating embeddings: 100%|██████████| 2048/2048 [00:45<00:00, 45.12it/s]\n",
      "Generating embeddings: 100%|██████████| 2048/2048 [00:45<00:00, 45.13it/s]\n",
      "Generating embeddings: 100%|██████████| 2048/2048 [00:45<00:00, 45.11it/s]\n",
      "Generating embeddings: 100%|██████████| 2048/2048 [00:45<00:00, 45.16it/s]\n",
      "Generating embeddings: 100%|██████████| 2048/2048 [00:45<00:00, 45.14it/s]\n",
      "Generating embeddings: 100%|██████████| 2048/2048 [00:45<00:00, 45.11it/s]\n",
      "Generating embeddings: 100%|██████████| 2048/2048 [00:45<00:00, 45.11it/s]\n",
      "Generating embeddings: 100%|██████████| 2048/2048 [00:45<00:00, 45.13it/s]\n",
      "Generating embeddings: 100%|██████████| 2048/2048 [00:45<00:00, 45.04it/s]\n",
      "Generating embeddings: 100%|██████████| 2048/2048 [00:45<00:00, 45.02it/s]\n",
      "Generating embeddings: 100%|██████████| 2048/2048 [00:45<00:00, 45.04it/s]\n",
      "Generating embeddings: 100%|██████████| 2048/2048 [00:45<00:00, 45.07it/s]\n",
      "Generating embeddings: 100%|██████████| 2048/2048 [00:45<00:00, 45.03it/s]\n",
      "Generating embeddings: 100%|██████████| 2048/2048 [00:45<00:00, 45.00it/s]\n",
      "Generating embeddings: 100%|██████████| 2048/2048 [00:45<00:00, 45.08it/s]\n",
      "Generating embeddings: 100%|██████████| 743/743 [00:16<00:00, 44.95it/s]\n",
      "Embedding chunks:  37%|███▋      | 22/60 [45:05<1:34:25, 149.09s/it]"
     ]
    },
    {
     "name": "stdout",
     "output_type": "stream",
     "text": [
      "✅ Finished chunk 21 (210000–220000) in 24.84 min\n"
     ]
    },
    {
     "name": "stderr",
     "output_type": "stream",
     "text": [
      "Parsing nodes: 100%|██████████| 10000/10000 [00:49<00:00, 203.83it/s]\n",
      "Generating embeddings: 100%|██████████| 2048/2048 [00:45<00:00, 45.07it/s]\n",
      "Generating embeddings: 100%|██████████| 2048/2048 [00:45<00:00, 45.19it/s]\n",
      "Generating embeddings: 100%|██████████| 2048/2048 [00:45<00:00, 45.15it/s]\n",
      "Generating embeddings: 100%|██████████| 2048/2048 [00:45<00:00, 45.16it/s]\n",
      "Generating embeddings: 100%|██████████| 2048/2048 [00:45<00:00, 45.09it/s]\n",
      "Generating embeddings: 100%|██████████| 2048/2048 [00:45<00:00, 45.19it/s]\n",
      "Generating embeddings: 100%|██████████| 2048/2048 [00:45<00:00, 45.11it/s]\n",
      "Generating embeddings: 100%|██████████| 2048/2048 [00:45<00:00, 45.28it/s]\n",
      "Generating embeddings: 100%|██████████| 2048/2048 [00:45<00:00, 45.09it/s]\n",
      "Generating embeddings: 100%|██████████| 2048/2048 [00:45<00:00, 45.03it/s]\n",
      "Generating embeddings: 100%|██████████| 2048/2048 [00:45<00:00, 45.06it/s]\n",
      "Generating embeddings: 100%|██████████| 2048/2048 [00:45<00:00, 45.10it/s]\n",
      "Generating embeddings: 100%|██████████| 2048/2048 [00:45<00:00, 45.14it/s]\n",
      "Generating embeddings: 100%|██████████| 2048/2048 [00:45<00:00, 45.10it/s]\n",
      "Generating embeddings: 100%|██████████| 2048/2048 [00:45<00:00, 45.08it/s]\n",
      "Generating embeddings: 100%|██████████| 2048/2048 [00:45<00:00, 45.09it/s]\n",
      "Generating embeddings: 100%|██████████| 2048/2048 [00:45<00:00, 45.08it/s]\n",
      "Generating embeddings: 100%|██████████| 2048/2048 [00:45<00:00, 45.15it/s]\n",
      "Generating embeddings: 100%|██████████| 2048/2048 [00:45<00:00, 45.18it/s]\n",
      "Generating embeddings: 100%|██████████| 2048/2048 [00:45<00:00, 45.13it/s]\n",
      "Generating embeddings: 100%|██████████| 2048/2048 [00:45<00:00, 45.16it/s]\n",
      "Generating embeddings: 100%|██████████| 2048/2048 [00:45<00:00, 45.13it/s]\n",
      "Generating embeddings: 100%|██████████| 2048/2048 [00:45<00:00, 45.14it/s]\n",
      "Generating embeddings: 100%|██████████| 2048/2048 [00:45<00:00, 45.16it/s]\n",
      "Generating embeddings: 100%|██████████| 2048/2048 [00:45<00:00, 45.14it/s]\n",
      "Generating embeddings: 100%|██████████| 2048/2048 [00:45<00:00, 45.06it/s]\n",
      "Generating embeddings: 100%|██████████| 2048/2048 [00:45<00:00, 45.18it/s]\n",
      "Generating embeddings: 100%|██████████| 2048/2048 [00:45<00:00, 45.19it/s]\n",
      "Generating embeddings: 100%|██████████| 642/642 [00:14<00:00, 45.01it/s]\n",
      "Embedding chunks:  38%|███▊      | 23/60 [1:07:30<2:33:28, 248.87s/it]"
     ]
    },
    {
     "name": "stdout",
     "output_type": "stream",
     "text": [
      "✅ Finished chunk 22 (220000–230000) in 22.42 min\n"
     ]
    },
    {
     "name": "stderr",
     "output_type": "stream",
     "text": [
      "Parsing nodes: 100%|██████████| 10000/10000 [00:52<00:00, 191.34it/s]\n",
      "Generating embeddings: 100%|██████████| 2048/2048 [00:45<00:00, 45.07it/s]\n",
      "Generating embeddings: 100%|██████████| 2048/2048 [00:45<00:00, 45.29it/s]\n",
      "Generating embeddings: 100%|██████████| 2048/2048 [00:45<00:00, 45.19it/s]\n",
      "Generating embeddings: 100%|██████████| 2048/2048 [00:45<00:00, 45.17it/s]\n",
      "Generating embeddings: 100%|██████████| 2048/2048 [00:45<00:00, 45.16it/s]\n",
      "Generating embeddings: 100%|██████████| 2048/2048 [00:45<00:00, 45.11it/s]\n",
      "Generating embeddings: 100%|██████████| 2048/2048 [00:45<00:00, 45.16it/s]\n",
      "Generating embeddings: 100%|██████████| 2048/2048 [00:45<00:00, 45.15it/s]\n",
      "Generating embeddings: 100%|██████████| 2048/2048 [00:45<00:00, 45.08it/s]\n",
      "Generating embeddings: 100%|██████████| 2048/2048 [00:45<00:00, 45.17it/s]\n",
      "Generating embeddings: 100%|██████████| 2048/2048 [00:45<00:00, 45.07it/s]\n",
      "Generating embeddings: 100%|██████████| 2048/2048 [00:45<00:00, 45.04it/s]\n",
      "Generating embeddings: 100%|██████████| 2048/2048 [00:45<00:00, 45.03it/s]\n",
      "Generating embeddings: 100%|██████████| 2048/2048 [00:45<00:00, 45.16it/s]\n",
      "Generating embeddings: 100%|██████████| 2048/2048 [00:45<00:00, 45.11it/s]\n",
      "Generating embeddings: 100%|██████████| 2048/2048 [00:45<00:00, 45.19it/s]\n",
      "Generating embeddings: 100%|██████████| 2048/2048 [00:45<00:00, 45.18it/s]\n",
      "Generating embeddings: 100%|██████████| 2048/2048 [00:45<00:00, 45.11it/s]\n",
      "Generating embeddings: 100%|██████████| 2048/2048 [00:45<00:00, 45.13it/s]\n",
      "Generating embeddings: 100%|██████████| 2048/2048 [00:45<00:00, 45.09it/s]\n",
      "Generating embeddings: 100%|██████████| 2048/2048 [00:45<00:00, 45.12it/s]\n",
      "Generating embeddings: 100%|██████████| 2048/2048 [00:45<00:00, 45.06it/s]\n",
      "Generating embeddings: 100%|██████████| 2048/2048 [00:45<00:00, 45.25it/s]\n",
      "Generating embeddings: 100%|██████████| 2048/2048 [00:45<00:00, 45.24it/s]\n",
      "Generating embeddings: 100%|██████████| 2048/2048 [00:45<00:00, 45.20it/s]\n",
      "Generating embeddings: 100%|██████████| 2048/2048 [00:45<00:00, 45.16it/s]\n",
      "Generating embeddings: 100%|██████████| 2048/2048 [00:45<00:00, 45.19it/s]\n",
      "Generating embeddings: 100%|██████████| 2048/2048 [00:45<00:00, 45.18it/s]\n",
      "Generating embeddings: 100%|██████████| 2048/2048 [00:45<00:00, 45.19it/s]\n",
      "Generating embeddings: 100%|██████████| 112/112 [00:02<00:00, 44.49it/s]\n",
      "Embedding chunks:  40%|████      | 24/60 [1:30:31<3:41:37, 369.39s/it]"
     ]
    },
    {
     "name": "stdout",
     "output_type": "stream",
     "text": [
      "✅ Finished chunk 23 (230000–240000) in 23.01 min\n"
     ]
    },
    {
     "name": "stderr",
     "output_type": "stream",
     "text": [
      "Parsing nodes: 100%|██████████| 10000/10000 [00:46<00:00, 213.25it/s]\n",
      "Generating embeddings: 100%|██████████| 2048/2048 [00:45<00:00, 45.07it/s]\n",
      "Generating embeddings: 100%|██████████| 2048/2048 [00:45<00:00, 45.27it/s]\n",
      "Generating embeddings: 100%|██████████| 2048/2048 [00:45<00:00, 45.11it/s]\n",
      "Generating embeddings: 100%|██████████| 2048/2048 [00:45<00:00, 45.21it/s]\n",
      "Generating embeddings: 100%|██████████| 2048/2048 [00:45<00:00, 45.19it/s]\n",
      "Generating embeddings: 100%|██████████| 2048/2048 [00:45<00:00, 45.16it/s]\n",
      "Generating embeddings: 100%|██████████| 2048/2048 [00:45<00:00, 45.15it/s]\n",
      "Generating embeddings: 100%|██████████| 2048/2048 [00:45<00:00, 45.17it/s]\n",
      "Generating embeddings: 100%|██████████| 2048/2048 [00:45<00:00, 45.16it/s]\n",
      "Generating embeddings: 100%|██████████| 2048/2048 [00:45<00:00, 45.09it/s]\n",
      "Generating embeddings: 100%|██████████| 2048/2048 [00:45<00:00, 45.09it/s]\n",
      "Generating embeddings: 100%|██████████| 2048/2048 [00:45<00:00, 45.11it/s]\n",
      "Generating embeddings: 100%|██████████| 2048/2048 [00:45<00:00, 45.22it/s]\n",
      "Generating embeddings: 100%|██████████| 2048/2048 [00:45<00:00, 45.18it/s]\n",
      "Generating embeddings: 100%|██████████| 2048/2048 [00:45<00:00, 45.10it/s]\n",
      "Generating embeddings: 100%|██████████| 2048/2048 [00:45<00:00, 45.11it/s]\n",
      "Generating embeddings: 100%|██████████| 2048/2048 [00:45<00:00, 45.14it/s]\n",
      "Generating embeddings: 100%|██████████| 2048/2048 [00:45<00:00, 45.11it/s]\n",
      "Generating embeddings: 100%|██████████| 2048/2048 [00:45<00:00, 45.03it/s]\n",
      "Generating embeddings: 100%|██████████| 2048/2048 [00:45<00:00, 45.12it/s]\n",
      "Generating embeddings: 100%|██████████| 2048/2048 [00:45<00:00, 45.09it/s]\n",
      "Generating embeddings: 100%|██████████| 2048/2048 [00:45<00:00, 45.06it/s]\n",
      "Generating embeddings: 100%|██████████| 2048/2048 [00:45<00:00, 45.19it/s]\n",
      "Generating embeddings: 100%|██████████| 2048/2048 [00:45<00:00, 45.18it/s]\n",
      "Generating embeddings: 100%|██████████| 2048/2048 [00:45<00:00, 45.05it/s]\n",
      "Generating embeddings: 100%|██████████| 2048/2048 [00:45<00:00, 45.10it/s]\n",
      "Generating embeddings: 100%|██████████| 1426/1426 [00:31<00:00, 45.07it/s]\n",
      "Embedding chunks:  42%|████▏     | 25/60 [1:51:39<4:44:40, 488.01s/it]"
     ]
    },
    {
     "name": "stdout",
     "output_type": "stream",
     "text": [
      "✅ Finished chunk 24 (240000–250000) in 21.13 min\n"
     ]
    },
    {
     "name": "stderr",
     "output_type": "stream",
     "text": [
      "Parsing nodes: 100%|██████████| 10000/10000 [00:46<00:00, 214.34it/s]\n",
      "Generating embeddings: 100%|██████████| 2048/2048 [00:45<00:00, 45.22it/s]\n",
      "Generating embeddings: 100%|██████████| 2048/2048 [00:45<00:00, 45.26it/s]\n",
      "Generating embeddings: 100%|██████████| 2048/2048 [00:45<00:00, 45.32it/s]\n",
      "Generating embeddings: 100%|██████████| 2048/2048 [00:45<00:00, 45.17it/s]\n",
      "Generating embeddings: 100%|██████████| 2048/2048 [00:45<00:00, 45.25it/s]\n",
      "Generating embeddings: 100%|██████████| 2048/2048 [00:45<00:00, 45.19it/s]\n",
      "Generating embeddings: 100%|██████████| 2048/2048 [00:45<00:00, 45.23it/s]\n",
      "Generating embeddings: 100%|██████████| 2048/2048 [00:45<00:00, 45.20it/s]\n",
      "Generating embeddings: 100%|██████████| 2048/2048 [00:45<00:00, 45.13it/s]\n",
      "Generating embeddings: 100%|██████████| 2048/2048 [00:45<00:00, 45.17it/s]\n",
      "Generating embeddings: 100%|██████████| 2048/2048 [00:45<00:00, 45.14it/s]\n",
      "Generating embeddings: 100%|██████████| 2048/2048 [00:45<00:00, 45.08it/s]\n",
      "Generating embeddings: 100%|██████████| 2048/2048 [00:45<00:00, 45.16it/s]\n",
      "Generating embeddings: 100%|██████████| 2048/2048 [00:45<00:00, 45.14it/s]\n",
      "Generating embeddings: 100%|██████████| 2048/2048 [00:45<00:00, 45.18it/s]\n",
      "Generating embeddings: 100%|██████████| 2048/2048 [00:45<00:00, 45.10it/s]\n",
      "Generating embeddings: 100%|██████████| 2048/2048 [00:45<00:00, 45.19it/s]\n",
      "Generating embeddings: 100%|██████████| 2048/2048 [00:45<00:00, 45.17it/s]\n",
      "Generating embeddings: 100%|██████████| 2048/2048 [00:45<00:00, 45.19it/s]\n",
      "Generating embeddings: 100%|██████████| 2048/2048 [00:45<00:00, 45.14it/s]\n",
      "Generating embeddings: 100%|██████████| 2048/2048 [00:45<00:00, 45.07it/s]\n",
      "Generating embeddings: 100%|██████████| 2048/2048 [00:45<00:00, 45.12it/s]\n",
      "Generating embeddings: 100%|██████████| 2048/2048 [00:45<00:00, 45.11it/s]\n",
      "Generating embeddings: 100%|██████████| 2048/2048 [00:45<00:00, 45.22it/s]\n",
      "Generating embeddings: 100%|██████████| 2048/2048 [00:45<00:00, 45.12it/s]\n",
      "Generating embeddings: 100%|██████████| 2048/2048 [00:45<00:00, 45.16it/s]\n",
      "Generating embeddings: 100%|██████████| 1441/1441 [00:31<00:00, 45.07it/s]\n",
      "Embedding chunks:  43%|████▎     | 26/60 [2:12:46<5:46:35, 611.64s/it]"
     ]
    },
    {
     "name": "stdout",
     "output_type": "stream",
     "text": [
      "✅ Finished chunk 25 (250000–260000) in 21.12 min\n"
     ]
    },
    {
     "name": "stderr",
     "output_type": "stream",
     "text": [
      "Parsing nodes: 100%|██████████| 10000/10000 [00:52<00:00, 190.02it/s]\n",
      "Generating embeddings: 100%|██████████| 2048/2048 [00:45<00:00, 45.13it/s]\n",
      "Generating embeddings: 100%|██████████| 2048/2048 [00:45<00:00, 45.26it/s]\n",
      "Generating embeddings: 100%|██████████| 2048/2048 [00:45<00:00, 45.23it/s]\n",
      "Generating embeddings: 100%|██████████| 2048/2048 [00:45<00:00, 45.13it/s]\n",
      "Generating embeddings: 100%|██████████| 2048/2048 [00:45<00:00, 45.14it/s]\n",
      "Generating embeddings: 100%|██████████| 2048/2048 [00:45<00:00, 45.25it/s]\n",
      "Generating embeddings: 100%|██████████| 2048/2048 [00:45<00:00, 45.19it/s]\n",
      "Generating embeddings: 100%|██████████| 2048/2048 [00:45<00:00, 45.14it/s]\n",
      "Generating embeddings: 100%|██████████| 2048/2048 [00:45<00:00, 45.17it/s]\n",
      "Generating embeddings: 100%|██████████| 2048/2048 [00:45<00:00, 45.21it/s]\n",
      "Generating embeddings: 100%|██████████| 2048/2048 [00:45<00:00, 45.16it/s]\n",
      "Generating embeddings: 100%|██████████| 2048/2048 [00:45<00:00, 45.15it/s]\n",
      "Generating embeddings: 100%|██████████| 2048/2048 [00:45<00:00, 45.15it/s]\n",
      "Generating embeddings: 100%|██████████| 2048/2048 [00:45<00:00, 45.10it/s]\n",
      "Generating embeddings: 100%|██████████| 2048/2048 [00:45<00:00, 45.11it/s]\n",
      "Generating embeddings: 100%|██████████| 2048/2048 [00:45<00:00, 45.12it/s]\n",
      "Generating embeddings: 100%|██████████| 2048/2048 [00:45<00:00, 45.09it/s]\n",
      "Generating embeddings: 100%|██████████| 2048/2048 [00:46<00:00, 43.77it/s]\n",
      "Generating embeddings: 100%|██████████| 2048/2048 [00:45<00:00, 45.10it/s]\n",
      "Generating embeddings: 100%|██████████| 2048/2048 [00:45<00:00, 45.09it/s]\n",
      "Generating embeddings: 100%|██████████| 2048/2048 [00:45<00:00, 45.23it/s]\n",
      "Generating embeddings: 100%|██████████| 2048/2048 [00:45<00:00, 45.15it/s]\n",
      "Generating embeddings: 100%|██████████| 2048/2048 [00:45<00:00, 45.15it/s]\n",
      "Generating embeddings: 100%|██████████| 2048/2048 [00:45<00:00, 45.19it/s]\n",
      "Generating embeddings: 100%|██████████| 2048/2048 [00:45<00:00, 45.17it/s]\n",
      "Generating embeddings: 100%|██████████| 2048/2048 [00:45<00:00, 45.21it/s]\n",
      "Generating embeddings: 100%|██████████| 2048/2048 [00:45<00:00, 45.18it/s]\n",
      "Generating embeddings: 100%|██████████| 2048/2048 [00:45<00:00, 45.11it/s]\n",
      "Generating embeddings: 100%|██████████| 2048/2048 [00:45<00:00, 45.10it/s]\n",
      "Generating embeddings: 100%|██████████| 967/967 [00:21<00:00, 45.07it/s]\n",
      "Embedding chunks:  45%|████▌     | 27/60 [2:36:08<6:56:41, 757.62s/it]"
     ]
    },
    {
     "name": "stdout",
     "output_type": "stream",
     "text": [
      "✅ Finished chunk 26 (260000–270000) in 23.36 min\n"
     ]
    },
    {
     "name": "stderr",
     "output_type": "stream",
     "text": [
      "Parsing nodes: 100%|██████████| 10000/10000 [00:49<00:00, 200.83it/s]\n",
      "Generating embeddings: 100%|██████████| 2048/2048 [00:45<00:00, 45.01it/s]\n",
      "Generating embeddings: 100%|██████████| 2048/2048 [00:45<00:00, 45.28it/s]\n",
      "Generating embeddings: 100%|██████████| 2048/2048 [00:45<00:00, 45.24it/s]\n",
      "Generating embeddings: 100%|██████████| 2048/2048 [00:45<00:00, 45.24it/s]\n",
      "Generating embeddings: 100%|██████████| 2048/2048 [00:45<00:00, 45.25it/s]\n",
      "Generating embeddings: 100%|██████████| 2048/2048 [00:45<00:00, 45.26it/s]\n",
      "Generating embeddings: 100%|██████████| 2048/2048 [00:45<00:00, 45.26it/s]\n",
      "Generating embeddings: 100%|██████████| 2048/2048 [00:45<00:00, 45.23it/s]\n",
      "Generating embeddings: 100%|██████████| 2048/2048 [00:45<00:00, 45.27it/s]\n",
      "Generating embeddings: 100%|██████████| 2048/2048 [00:45<00:00, 45.13it/s]\n",
      "Generating embeddings: 100%|██████████| 2048/2048 [00:45<00:00, 45.25it/s]\n",
      "Generating embeddings: 100%|██████████| 2048/2048 [00:46<00:00, 44.00it/s]\n",
      "Generating embeddings: 100%|██████████| 2048/2048 [00:45<00:00, 45.20it/s]\n",
      "Generating embeddings: 100%|██████████| 2048/2048 [00:45<00:00, 45.16it/s]\n",
      "Generating embeddings: 100%|██████████| 2048/2048 [00:45<00:00, 45.18it/s]\n",
      "Generating embeddings: 100%|██████████| 2048/2048 [00:45<00:00, 45.21it/s]\n",
      "Generating embeddings: 100%|██████████| 2048/2048 [00:45<00:00, 45.20it/s]\n",
      "Generating embeddings: 100%|██████████| 2048/2048 [00:45<00:00, 45.21it/s]\n",
      "Generating embeddings: 100%|██████████| 2048/2048 [00:45<00:00, 45.22it/s]\n",
      "Generating embeddings: 100%|██████████| 2048/2048 [00:45<00:00, 45.27it/s]\n",
      "Generating embeddings: 100%|██████████| 2048/2048 [00:45<00:00, 45.24it/s]\n",
      "Generating embeddings: 100%|██████████| 2048/2048 [00:45<00:00, 45.18it/s]\n",
      "Generating embeddings: 100%|██████████| 2048/2048 [00:45<00:00, 45.21it/s]\n",
      "Generating embeddings: 100%|██████████| 2048/2048 [00:45<00:00, 45.19it/s]\n",
      "Generating embeddings: 100%|██████████| 2048/2048 [00:45<00:00, 45.24it/s]\n",
      "Generating embeddings: 100%|██████████| 2048/2048 [00:45<00:00, 45.20it/s]\n",
      "Generating embeddings: 100%|██████████| 2048/2048 [00:45<00:00, 45.21it/s]\n",
      "Generating embeddings: 100%|██████████| 2048/2048 [00:45<00:00, 45.23it/s]\n",
      "Generating embeddings: 100%|██████████| 1450/1450 [00:32<00:00, 45.21it/s]\n",
      "Embedding chunks:  47%|████▋     | 28/60 [2:58:50<7:51:22, 883.83s/it]"
     ]
    },
    {
     "name": "stdout",
     "output_type": "stream",
     "text": [
      "✅ Finished chunk 27 (270000–280000) in 22.70 min\n"
     ]
    },
    {
     "name": "stderr",
     "output_type": "stream",
     "text": [
      "Parsing nodes: 100%|██████████| 10000/10000 [00:44<00:00, 225.15it/s]\n",
      "Generating embeddings: 100%|██████████| 2048/2048 [00:45<00:00, 45.20it/s]\n",
      "Generating embeddings: 100%|██████████| 2048/2048 [00:45<00:00, 45.29it/s]\n",
      "Generating embeddings: 100%|██████████| 2048/2048 [00:45<00:00, 45.28it/s]\n",
      "Generating embeddings: 100%|██████████| 2048/2048 [00:45<00:00, 45.24it/s]\n",
      "Generating embeddings: 100%|██████████| 2048/2048 [00:45<00:00, 45.19it/s]\n",
      "Generating embeddings: 100%|██████████| 2048/2048 [00:45<00:00, 45.22it/s]\n",
      "Generating embeddings: 100%|██████████| 2048/2048 [00:45<00:00, 45.22it/s]\n",
      "Generating embeddings: 100%|██████████| 2048/2048 [00:45<00:00, 45.18it/s]\n",
      "Generating embeddings: 100%|██████████| 2048/2048 [00:45<00:00, 45.19it/s]\n",
      "Generating embeddings: 100%|██████████| 2048/2048 [00:45<00:00, 45.23it/s]\n",
      "Generating embeddings: 100%|██████████| 2048/2048 [00:45<00:00, 45.22it/s]\n",
      "Generating embeddings: 100%|██████████| 2048/2048 [00:45<00:00, 45.18it/s]\n",
      "Generating embeddings: 100%|██████████| 2048/2048 [00:46<00:00, 43.93it/s]\n",
      "Generating embeddings: 100%|██████████| 2048/2048 [00:45<00:00, 45.13it/s]\n",
      "Generating embeddings: 100%|██████████| 2048/2048 [00:45<00:00, 45.13it/s]\n",
      "Generating embeddings: 100%|██████████| 2048/2048 [00:45<00:00, 45.21it/s]\n",
      "Generating embeddings: 100%|██████████| 2048/2048 [00:45<00:00, 45.22it/s]\n",
      "Generating embeddings: 100%|██████████| 2048/2048 [00:45<00:00, 45.25it/s]\n",
      "Generating embeddings: 100%|██████████| 2048/2048 [00:45<00:00, 45.19it/s]\n",
      "Generating embeddings: 100%|██████████| 2048/2048 [00:45<00:00, 45.18it/s]\n",
      "Generating embeddings: 100%|██████████| 2048/2048 [00:45<00:00, 45.20it/s]\n",
      "Generating embeddings: 100%|██████████| 2048/2048 [00:45<00:00, 45.21it/s]\n",
      "Generating embeddings: 100%|██████████| 2048/2048 [00:45<00:00, 45.15it/s]\n",
      "Generating embeddings: 100%|██████████| 2048/2048 [00:45<00:00, 45.18it/s]\n",
      "Generating embeddings: 100%|██████████| 2048/2048 [00:45<00:00, 45.21it/s]\n",
      "Generating embeddings: 100%|██████████| 1465/1465 [00:32<00:00, 45.25it/s]\n",
      "Embedding chunks:  48%|████▊     | 29/60 [3:19:10<8:16:34, 961.12s/it]"
     ]
    },
    {
     "name": "stdout",
     "output_type": "stream",
     "text": [
      "✅ Finished chunk 28 (280000–290000) in 20.34 min\n"
     ]
    },
    {
     "name": "stderr",
     "output_type": "stream",
     "text": [
      "Parsing nodes: 100%|██████████| 10000/10000 [00:48<00:00, 206.83it/s]\n",
      "Generating embeddings: 100%|██████████| 2048/2048 [00:45<00:00, 45.25it/s]\n",
      "Generating embeddings: 100%|██████████| 2048/2048 [00:45<00:00, 45.36it/s]\n",
      "Generating embeddings: 100%|██████████| 2048/2048 [00:45<00:00, 45.31it/s]\n",
      "Generating embeddings: 100%|██████████| 2048/2048 [00:45<00:00, 45.24it/s]\n",
      "Generating embeddings: 100%|██████████| 2048/2048 [00:45<00:00, 45.26it/s]\n",
      "Generating embeddings: 100%|██████████| 2048/2048 [00:45<00:00, 45.23it/s]\n",
      "Generating embeddings: 100%|██████████| 2048/2048 [00:45<00:00, 45.23it/s]\n",
      "Generating embeddings: 100%|██████████| 2048/2048 [00:45<00:00, 45.28it/s]\n",
      "Generating embeddings: 100%|██████████| 2048/2048 [00:45<00:00, 45.24it/s]\n",
      "Generating embeddings: 100%|██████████| 2048/2048 [00:45<00:00, 45.29it/s]\n",
      "Generating embeddings: 100%|██████████| 2048/2048 [00:45<00:00, 45.26it/s]\n",
      "Generating embeddings: 100%|██████████| 2048/2048 [00:45<00:00, 45.24it/s]\n",
      "Generating embeddings: 100%|██████████| 2048/2048 [00:45<00:00, 45.18it/s]\n",
      "Generating embeddings: 100%|██████████| 2048/2048 [00:45<00:00, 45.25it/s]\n",
      "Generating embeddings: 100%|██████████| 2048/2048 [00:45<00:00, 45.19it/s]\n",
      "Generating embeddings: 100%|██████████| 2048/2048 [00:45<00:00, 45.23it/s]\n",
      "Generating embeddings: 100%|██████████| 2048/2048 [00:45<00:00, 45.20it/s]\n",
      "Generating embeddings: 100%|██████████| 2048/2048 [00:45<00:00, 45.16it/s]\n",
      "Generating embeddings: 100%|██████████| 2048/2048 [00:45<00:00, 45.22it/s]\n",
      "Generating embeddings: 100%|██████████| 2048/2048 [00:45<00:00, 45.17it/s]\n",
      "Generating embeddings: 100%|██████████| 2048/2048 [00:45<00:00, 45.17it/s]\n",
      "Generating embeddings: 100%|██████████| 2048/2048 [00:45<00:00, 44.78it/s]\n",
      "Generating embeddings: 100%|██████████| 2048/2048 [00:45<00:00, 45.20it/s]\n",
      "Generating embeddings: 100%|██████████| 2048/2048 [00:45<00:00, 45.15it/s]\n",
      "Generating embeddings: 100%|██████████| 2048/2048 [00:45<00:00, 45.20it/s]\n",
      "Generating embeddings: 100%|██████████| 2048/2048 [00:45<00:00, 45.16it/s]\n",
      "Generating embeddings: 100%|██████████| 2048/2048 [00:45<00:00, 45.17it/s]\n",
      "Generating embeddings: 100%|██████████| 1302/1302 [00:28<00:00, 45.21it/s]\n",
      "Embedding chunks:  50%|█████     | 30/60 [3:41:02<8:43:53, 1047.78s/it]"
     ]
    },
    {
     "name": "stdout",
     "output_type": "stream",
     "text": [
      "✅ Finished chunk 29 (290000–300000) in 21.86 min\n"
     ]
    },
    {
     "name": "stderr",
     "output_type": "stream",
     "text": [
      "Parsing nodes: 100%|██████████| 10000/10000 [00:49<00:00, 203.56it/s]\n",
      "Generating embeddings: 100%|██████████| 2048/2048 [00:45<00:00, 45.00it/s]\n",
      "Generating embeddings: 100%|██████████| 2048/2048 [00:45<00:00, 45.22it/s]\n",
      "Generating embeddings: 100%|██████████| 2048/2048 [00:45<00:00, 45.24it/s]\n",
      "Generating embeddings: 100%|██████████| 2048/2048 [00:45<00:00, 45.22it/s]\n",
      "Generating embeddings: 100%|██████████| 2048/2048 [00:45<00:00, 45.26it/s]\n",
      "Generating embeddings: 100%|██████████| 2048/2048 [00:45<00:00, 45.22it/s]\n",
      "Generating embeddings: 100%|██████████| 2048/2048 [00:45<00:00, 45.15it/s]\n",
      "Generating embeddings: 100%|██████████| 2048/2048 [00:45<00:00, 45.28it/s]\n",
      "Generating embeddings: 100%|██████████| 2048/2048 [00:45<00:00, 45.25it/s]\n",
      "Generating embeddings: 100%|██████████| 2048/2048 [00:45<00:00, 45.16it/s]\n",
      "Generating embeddings: 100%|██████████| 2048/2048 [00:45<00:00, 45.14it/s]\n",
      "Generating embeddings: 100%|██████████| 2048/2048 [00:45<00:00, 45.15it/s]\n",
      "Generating embeddings: 100%|██████████| 2048/2048 [00:45<00:00, 45.16it/s]\n",
      "Generating embeddings: 100%|██████████| 2048/2048 [00:45<00:00, 45.18it/s]\n",
      "Generating embeddings: 100%|██████████| 2048/2048 [00:45<00:00, 45.19it/s]\n",
      "Generating embeddings: 100%|██████████| 2048/2048 [00:45<00:00, 45.19it/s]\n",
      "Generating embeddings: 100%|██████████| 2048/2048 [00:45<00:00, 45.18it/s]\n",
      "Generating embeddings: 100%|██████████| 2048/2048 [00:45<00:00, 45.23it/s]\n",
      "Generating embeddings: 100%|██████████| 2048/2048 [00:45<00:00, 45.15it/s]\n",
      "Generating embeddings: 100%|██████████| 2048/2048 [00:45<00:00, 45.14it/s]\n",
      "Generating embeddings: 100%|██████████| 2048/2048 [00:45<00:00, 45.09it/s]\n",
      "Generating embeddings: 100%|██████████| 2048/2048 [00:45<00:00, 45.14it/s]\n",
      "Generating embeddings: 100%|██████████| 2048/2048 [00:45<00:00, 45.10it/s]\n",
      "Generating embeddings: 100%|██████████| 2048/2048 [00:45<00:00, 45.14it/s]\n",
      "Generating embeddings: 100%|██████████| 2048/2048 [00:45<00:00, 45.14it/s]\n",
      "Generating embeddings: 100%|██████████| 2048/2048 [00:45<00:00, 45.17it/s]\n",
      "Generating embeddings: 100%|██████████| 2048/2048 [00:45<00:00, 45.16it/s]\n",
      "Generating embeddings: 100%|██████████| 2048/2048 [00:45<00:00, 45.13it/s]\n",
      "Generating embeddings: 100%|██████████| 67/67 [00:01<00:00, 41.90it/s]\n",
      "Embedding chunks:  52%|█████▏    | 31/60 [4:03:14<9:02:14, 1121.87s/it]"
     ]
    },
    {
     "name": "stdout",
     "output_type": "stream",
     "text": [
      "✅ Finished chunk 30 (300000–310000) in 22.20 min\n"
     ]
    },
    {
     "name": "stderr",
     "output_type": "stream",
     "text": [
      "Parsing nodes: 100%|██████████| 10000/10000 [00:43<00:00, 227.49it/s]\n",
      "Generating embeddings: 100%|██████████| 2048/2048 [00:45<00:00, 45.12it/s]\n",
      "Generating embeddings: 100%|██████████| 2048/2048 [00:45<00:00, 45.28it/s]\n",
      "Generating embeddings: 100%|██████████| 2048/2048 [00:45<00:00, 45.18it/s]\n",
      "Generating embeddings: 100%|██████████| 2048/2048 [00:45<00:00, 45.25it/s]\n",
      "Generating embeddings: 100%|██████████| 2048/2048 [00:45<00:00, 45.29it/s]\n",
      "Generating embeddings: 100%|██████████| 2048/2048 [00:45<00:00, 45.18it/s]\n",
      "Generating embeddings: 100%|██████████| 2048/2048 [00:45<00:00, 45.23it/s]\n",
      "Generating embeddings: 100%|██████████| 2048/2048 [00:45<00:00, 45.15it/s]\n",
      "Generating embeddings: 100%|██████████| 2048/2048 [00:45<00:00, 45.18it/s]\n",
      "Generating embeddings: 100%|██████████| 2048/2048 [00:45<00:00, 45.20it/s]\n",
      "Generating embeddings: 100%|██████████| 2048/2048 [00:45<00:00, 45.19it/s]\n",
      "Generating embeddings: 100%|██████████| 2048/2048 [00:45<00:00, 45.13it/s]\n",
      "Generating embeddings: 100%|██████████| 2048/2048 [00:45<00:00, 45.13it/s]\n",
      "Generating embeddings: 100%|██████████| 2048/2048 [00:45<00:00, 45.13it/s]\n",
      "Generating embeddings: 100%|██████████| 2048/2048 [00:45<00:00, 45.22it/s]\n",
      "Generating embeddings: 100%|██████████| 2048/2048 [00:45<00:00, 45.21it/s]\n",
      "Generating embeddings: 100%|██████████| 2048/2048 [00:45<00:00, 45.16it/s]\n",
      "Generating embeddings: 100%|██████████| 2048/2048 [00:45<00:00, 45.13it/s]\n",
      "Generating embeddings: 100%|██████████| 2048/2048 [00:45<00:00, 45.14it/s]\n",
      "Generating embeddings: 100%|██████████| 2048/2048 [00:45<00:00, 45.18it/s]\n",
      "Generating embeddings: 100%|██████████| 2048/2048 [00:45<00:00, 45.16it/s]\n",
      "Generating embeddings: 100%|██████████| 2048/2048 [00:45<00:00, 45.18it/s]\n",
      "Generating embeddings: 100%|██████████| 2048/2048 [00:45<00:00, 45.20it/s]\n",
      "Generating embeddings: 100%|██████████| 2048/2048 [00:45<00:00, 45.16it/s]\n",
      "Generating embeddings: 100%|██████████| 2048/2048 [00:45<00:00, 45.10it/s]\n",
      "Generating embeddings: 100%|██████████| 1569/1569 [00:34<00:00, 45.08it/s]\n",
      "Embedding chunks:  53%|█████▎    | 32/60 [4:23:36<8:56:20, 1149.29s/it]"
     ]
    },
    {
     "name": "stdout",
     "output_type": "stream",
     "text": [
      "✅ Finished chunk 31 (310000–320000) in 20.38 min\n"
     ]
    },
    {
     "name": "stderr",
     "output_type": "stream",
     "text": [
      "Parsing nodes: 100%|██████████| 10000/10000 [00:45<00:00, 220.55it/s]\n",
      "Generating embeddings: 100%|██████████| 2048/2048 [00:45<00:00, 45.07it/s]\n",
      "Generating embeddings: 100%|██████████| 2048/2048 [00:45<00:00, 45.22it/s]\n",
      "Generating embeddings: 100%|██████████| 2048/2048 [00:45<00:00, 45.11it/s]\n",
      "Generating embeddings: 100%|██████████| 2048/2048 [00:45<00:00, 45.15it/s]\n",
      "Generating embeddings: 100%|██████████| 2048/2048 [00:45<00:00, 45.08it/s]\n",
      "Generating embeddings: 100%|██████████| 2048/2048 [00:45<00:00, 45.19it/s]\n",
      "Generating embeddings: 100%|██████████| 2048/2048 [00:45<00:00, 45.06it/s]\n",
      "Generating embeddings: 100%|██████████| 2048/2048 [00:45<00:00, 45.18it/s]\n",
      "Generating embeddings: 100%|██████████| 2048/2048 [00:45<00:00, 45.17it/s]\n",
      "Generating embeddings: 100%|██████████| 2048/2048 [00:45<00:00, 45.09it/s]\n",
      "Generating embeddings: 100%|██████████| 2048/2048 [00:45<00:00, 45.19it/s]\n",
      "Generating embeddings: 100%|██████████| 2048/2048 [00:45<00:00, 45.19it/s]\n",
      "Generating embeddings: 100%|██████████| 2048/2048 [00:45<00:00, 45.13it/s]\n",
      "Generating embeddings: 100%|██████████| 2048/2048 [00:45<00:00, 45.14it/s]\n",
      "Generating embeddings: 100%|██████████| 2048/2048 [00:45<00:00, 45.05it/s]\n",
      "Generating embeddings: 100%|██████████| 2048/2048 [00:45<00:00, 45.11it/s]\n",
      "Generating embeddings: 100%|██████████| 2048/2048 [00:45<00:00, 45.16it/s]\n",
      "Generating embeddings: 100%|██████████| 2048/2048 [00:45<00:00, 45.12it/s]\n",
      "Generating embeddings: 100%|██████████| 2048/2048 [00:45<00:00, 45.10it/s]\n",
      "Generating embeddings: 100%|██████████| 2048/2048 [00:45<00:00, 45.20it/s]\n",
      "Generating embeddings: 100%|██████████| 2048/2048 [00:46<00:00, 44.12it/s]\n",
      "Generating embeddings: 100%|██████████| 2048/2048 [00:45<00:00, 45.20it/s]\n",
      "Generating embeddings: 100%|██████████| 2048/2048 [00:45<00:00, 45.12it/s]\n",
      "Generating embeddings: 100%|██████████| 2048/2048 [00:45<00:00, 45.17it/s]\n",
      "Generating embeddings: 100%|██████████| 2048/2048 [00:45<00:00, 45.09it/s]\n",
      "Generating embeddings: 100%|██████████| 2048/2048 [00:45<00:00, 45.16it/s]\n",
      "Generating embeddings: 100%|██████████| 1008/1008 [00:22<00:00, 45.15it/s]\n",
      "Embedding chunks:  55%|█████▌    | 33/60 [4:44:36<8:51:01, 1180.06s/it]"
     ]
    },
    {
     "name": "stdout",
     "output_type": "stream",
     "text": [
      "✅ Finished chunk 32 (320000–330000) in 20.99 min\n"
     ]
    },
    {
     "name": "stderr",
     "output_type": "stream",
     "text": [
      "Parsing nodes: 100%|██████████| 10000/10000 [00:37<00:00, 267.12it/s]\n",
      "Generating embeddings: 100%|██████████| 2048/2048 [00:45<00:00, 45.16it/s]\n",
      "Generating embeddings: 100%|██████████| 2048/2048 [00:45<00:00, 45.24it/s]\n",
      "Generating embeddings: 100%|██████████| 2048/2048 [00:45<00:00, 45.22it/s]\n",
      "Generating embeddings: 100%|██████████| 2048/2048 [00:45<00:00, 45.27it/s]\n",
      "Generating embeddings: 100%|██████████| 2048/2048 [00:45<00:00, 45.21it/s]\n",
      "Generating embeddings: 100%|██████████| 2048/2048 [00:45<00:00, 45.23it/s]\n",
      "Generating embeddings: 100%|██████████| 2048/2048 [00:45<00:00, 45.21it/s]\n",
      "Generating embeddings: 100%|██████████| 2048/2048 [00:45<00:00, 45.20it/s]\n",
      "Generating embeddings: 100%|██████████| 2048/2048 [00:45<00:00, 45.19it/s]\n",
      "Generating embeddings: 100%|██████████| 2048/2048 [00:45<00:00, 45.11it/s]\n",
      "Generating embeddings: 100%|██████████| 2048/2048 [00:45<00:00, 45.16it/s]\n",
      "Generating embeddings: 100%|██████████| 2048/2048 [00:45<00:00, 45.18it/s]\n",
      "Generating embeddings: 100%|██████████| 2048/2048 [00:45<00:00, 45.16it/s]\n",
      "Generating embeddings: 100%|██████████| 2048/2048 [00:45<00:00, 45.15it/s]\n",
      "Generating embeddings: 100%|██████████| 2048/2048 [00:45<00:00, 45.16it/s]\n",
      "Generating embeddings: 100%|██████████| 2048/2048 [00:45<00:00, 45.08it/s]\n",
      "Generating embeddings: 100%|██████████| 2048/2048 [00:46<00:00, 43.79it/s]\n",
      "Generating embeddings: 100%|██████████| 2048/2048 [00:45<00:00, 45.08it/s]\n",
      "Generating embeddings: 100%|██████████| 2048/2048 [00:45<00:00, 45.10it/s]\n",
      "Generating embeddings: 100%|██████████| 2048/2048 [00:45<00:00, 45.13it/s]\n",
      "Generating embeddings: 100%|██████████| 2048/2048 [00:45<00:00, 45.16it/s]\n",
      "Generating embeddings: 100%|██████████| 2048/2048 [00:45<00:00, 45.15it/s]\n",
      "Generating embeddings: 100%|██████████| 1534/1534 [00:34<00:00, 45.11it/s]\n",
      "Embedding chunks:  57%|█████▋    | 34/60 [5:02:34<8:18:49, 1151.14s/it]"
     ]
    },
    {
     "name": "stdout",
     "output_type": "stream",
     "text": [
      "✅ Finished chunk 33 (330000–340000) in 17.98 min\n"
     ]
    },
    {
     "name": "stderr",
     "output_type": "stream",
     "text": [
      "Parsing nodes: 100%|██████████| 10000/10000 [00:43<00:00, 230.01it/s]\n",
      "Generating embeddings: 100%|██████████| 2048/2048 [00:45<00:00, 45.14it/s]\n",
      "Generating embeddings: 100%|██████████| 2048/2048 [00:45<00:00, 45.35it/s]\n",
      "Generating embeddings: 100%|██████████| 2048/2048 [00:45<00:00, 45.28it/s]\n",
      "Generating embeddings: 100%|██████████| 2048/2048 [00:45<00:00, 45.24it/s]\n",
      "Generating embeddings: 100%|██████████| 2048/2048 [00:45<00:00, 45.19it/s]\n",
      "Generating embeddings: 100%|██████████| 2048/2048 [00:45<00:00, 45.19it/s]\n",
      "Generating embeddings: 100%|██████████| 2048/2048 [00:45<00:00, 45.16it/s]\n",
      "Generating embeddings: 100%|██████████| 2048/2048 [00:45<00:00, 45.23it/s]\n",
      "Generating embeddings: 100%|██████████| 2048/2048 [00:45<00:00, 45.29it/s]\n",
      "Generating embeddings: 100%|██████████| 2048/2048 [00:45<00:00, 45.24it/s]\n",
      "Generating embeddings: 100%|██████████| 2048/2048 [00:45<00:00, 45.18it/s]\n",
      "Generating embeddings: 100%|██████████| 2048/2048 [00:45<00:00, 45.07it/s]\n",
      "Generating embeddings: 100%|██████████| 2048/2048 [00:45<00:00, 45.10it/s]\n",
      "Generating embeddings: 100%|██████████| 2048/2048 [00:45<00:00, 45.21it/s]\n",
      "Generating embeddings: 100%|██████████| 2048/2048 [00:45<00:00, 45.17it/s]\n",
      "Generating embeddings: 100%|██████████| 2048/2048 [00:45<00:00, 45.22it/s]\n",
      "Generating embeddings: 100%|██████████| 2048/2048 [00:45<00:00, 45.18it/s]\n",
      "Generating embeddings: 100%|██████████| 2048/2048 [00:45<00:00, 45.17it/s]\n",
      "Generating embeddings: 100%|██████████| 2048/2048 [00:45<00:00, 45.09it/s]\n",
      "Generating embeddings: 100%|██████████| 2048/2048 [00:45<00:00, 45.15it/s]\n",
      "Generating embeddings: 100%|██████████| 2048/2048 [00:45<00:00, 45.24it/s]\n",
      "Generating embeddings: 100%|██████████| 2048/2048 [00:45<00:00, 45.20it/s]\n",
      "Generating embeddings: 100%|██████████| 2048/2048 [00:46<00:00, 43.78it/s]\n",
      "Generating embeddings: 100%|██████████| 2048/2048 [00:45<00:00, 45.21it/s]\n",
      "Generating embeddings: 100%|██████████| 2048/2048 [00:45<00:00, 45.16it/s]\n",
      "Generating embeddings: 100%|██████████| 347/347 [00:07<00:00, 45.05it/s]\n",
      "Embedding chunks:  58%|█████▊    | 35/60 [5:22:29<8:04:54, 1163.79s/it]"
     ]
    },
    {
     "name": "stdout",
     "output_type": "stream",
     "text": [
      "✅ Finished chunk 34 (340000–350000) in 19.91 min\n"
     ]
    },
    {
     "name": "stderr",
     "output_type": "stream",
     "text": [
      "Parsing nodes: 100%|██████████| 10000/10000 [00:33<00:00, 298.56it/s]\n",
      "Generating embeddings: 100%|██████████| 2048/2048 [00:45<00:00, 45.11it/s]\n",
      "Generating embeddings: 100%|██████████| 2048/2048 [00:45<00:00, 45.33it/s]\n",
      "Generating embeddings: 100%|██████████| 2048/2048 [00:45<00:00, 45.19it/s]\n",
      "Generating embeddings: 100%|██████████| 2048/2048 [00:45<00:00, 45.30it/s]\n",
      "Generating embeddings: 100%|██████████| 2048/2048 [00:45<00:00, 45.12it/s]\n",
      "Generating embeddings: 100%|██████████| 2048/2048 [00:45<00:00, 45.18it/s]\n",
      "Generating embeddings: 100%|██████████| 2048/2048 [00:45<00:00, 45.22it/s]\n",
      "Generating embeddings: 100%|██████████| 2048/2048 [00:45<00:00, 45.13it/s]\n",
      "Generating embeddings: 100%|██████████| 2048/2048 [00:45<00:00, 45.11it/s]\n",
      "Generating embeddings: 100%|██████████| 2048/2048 [00:45<00:00, 45.16it/s]\n",
      "Generating embeddings: 100%|██████████| 2048/2048 [00:45<00:00, 45.14it/s]\n",
      "Generating embeddings: 100%|██████████| 2048/2048 [00:45<00:00, 45.10it/s]\n",
      "Generating embeddings: 100%|██████████| 2048/2048 [00:45<00:00, 45.22it/s]\n",
      "Generating embeddings: 100%|██████████| 2048/2048 [00:45<00:00, 45.11it/s]\n",
      "Generating embeddings: 100%|██████████| 2048/2048 [00:45<00:00, 45.35it/s]\n",
      "Generating embeddings: 100%|██████████| 2048/2048 [00:45<00:00, 45.24it/s]\n",
      "Generating embeddings: 100%|██████████| 2048/2048 [00:45<00:00, 45.33it/s]\n",
      "Generating embeddings: 100%|██████████| 2048/2048 [00:45<00:00, 45.17it/s]\n",
      "Generating embeddings: 100%|██████████| 2048/2048 [00:45<00:00, 45.16it/s]\n",
      "Generating embeddings: 100%|██████████| 2048/2048 [00:45<00:00, 45.26it/s]\n",
      "Generating embeddings: 100%|██████████| 834/834 [00:18<00:00, 44.98it/s]\n",
      "Embedding chunks:  60%|██████    | 36/60 [5:38:35<7:22:20, 1105.85s/it]"
     ]
    },
    {
     "name": "stdout",
     "output_type": "stream",
     "text": [
      "✅ Finished chunk 35 (350000–360000) in 16.10 min\n"
     ]
    },
    {
     "name": "stderr",
     "output_type": "stream",
     "text": [
      "Parsing nodes: 100%|██████████| 10000/10000 [00:33<00:00, 297.98it/s]\n",
      "Generating embeddings: 100%|██████████| 2048/2048 [00:45<00:00, 45.17it/s]\n",
      "Generating embeddings: 100%|██████████| 2048/2048 [00:45<00:00, 45.42it/s]\n",
      "Generating embeddings: 100%|██████████| 2048/2048 [00:45<00:00, 45.18it/s]\n",
      "Generating embeddings: 100%|██████████| 2048/2048 [00:45<00:00, 45.15it/s]\n",
      "Generating embeddings: 100%|██████████| 2048/2048 [00:45<00:00, 45.18it/s]\n",
      "Generating embeddings: 100%|██████████| 2048/2048 [00:45<00:00, 45.29it/s]\n",
      "Generating embeddings: 100%|██████████| 2048/2048 [00:45<00:00, 45.34it/s]\n",
      "Generating embeddings: 100%|██████████| 2048/2048 [00:45<00:00, 45.23it/s]\n",
      "Generating embeddings: 100%|██████████| 2048/2048 [00:45<00:00, 45.30it/s]\n",
      "Generating embeddings: 100%|██████████| 2048/2048 [00:45<00:00, 45.20it/s]\n",
      "Generating embeddings: 100%|██████████| 2048/2048 [00:45<00:00, 45.16it/s]\n",
      "Generating embeddings: 100%|██████████| 2048/2048 [00:45<00:00, 45.25it/s]\n",
      "Generating embeddings: 100%|██████████| 2048/2048 [00:45<00:00, 45.20it/s]\n",
      "Generating embeddings: 100%|██████████| 2048/2048 [00:45<00:00, 45.14it/s]\n",
      "Generating embeddings: 100%|██████████| 2048/2048 [00:45<00:00, 45.19it/s]\n",
      "Generating embeddings: 100%|██████████| 2048/2048 [00:45<00:00, 45.24it/s]\n",
      "Generating embeddings: 100%|██████████| 2048/2048 [00:45<00:00, 45.21it/s]\n",
      "Generating embeddings: 100%|██████████| 2048/2048 [00:45<00:00, 45.18it/s]\n",
      "Generating embeddings: 100%|██████████| 2048/2048 [00:45<00:00, 45.18it/s]\n",
      "Generating embeddings: 100%|██████████| 1965/1965 [00:43<00:00, 45.15it/s]\n",
      "Embedding chunks:  62%|██████▏   | 37/60 [5:54:20<6:45:43, 1058.40s/it]"
     ]
    },
    {
     "name": "stdout",
     "output_type": "stream",
     "text": [
      "✅ Finished chunk 36 (360000–370000) in 15.75 min\n"
     ]
    },
    {
     "name": "stderr",
     "output_type": "stream",
     "text": [
      "Parsing nodes: 100%|██████████| 10000/10000 [00:37<00:00, 267.87it/s]\n",
      "Generating embeddings: 100%|██████████| 2048/2048 [00:45<00:00, 45.22it/s]\n",
      "Generating embeddings: 100%|██████████| 2048/2048 [00:45<00:00, 45.40it/s]\n",
      "Generating embeddings: 100%|██████████| 2048/2048 [00:45<00:00, 45.31it/s]\n",
      "Generating embeddings: 100%|██████████| 2048/2048 [00:45<00:00, 45.26it/s]\n",
      "Generating embeddings: 100%|██████████| 2048/2048 [00:45<00:00, 45.18it/s]\n",
      "Generating embeddings: 100%|██████████| 2048/2048 [00:45<00:00, 45.21it/s]\n",
      "Generating embeddings: 100%|██████████| 2048/2048 [00:45<00:00, 45.15it/s]\n",
      "Generating embeddings: 100%|██████████| 2048/2048 [00:45<00:00, 45.18it/s]\n",
      "Generating embeddings: 100%|██████████| 2048/2048 [00:45<00:00, 45.19it/s]\n",
      "Generating embeddings: 100%|██████████| 2048/2048 [00:45<00:00, 45.23it/s]\n",
      "Generating embeddings: 100%|██████████| 2048/2048 [00:45<00:00, 45.19it/s]\n",
      "Generating embeddings: 100%|██████████| 2048/2048 [00:45<00:00, 45.17it/s]\n",
      "Generating embeddings: 100%|██████████| 2048/2048 [00:45<00:00, 45.23it/s]\n",
      "Generating embeddings: 100%|██████████| 2048/2048 [00:45<00:00, 45.18it/s]\n",
      "Generating embeddings: 100%|██████████| 2048/2048 [00:45<00:00, 45.17it/s]\n",
      "Generating embeddings: 100%|██████████| 2048/2048 [00:45<00:00, 45.22it/s]\n",
      "Generating embeddings: 100%|██████████| 2048/2048 [00:45<00:00, 45.28it/s]\n",
      "Generating embeddings: 100%|██████████| 2048/2048 [00:45<00:00, 45.23it/s]\n",
      "Generating embeddings: 100%|██████████| 2048/2048 [00:45<00:00, 45.25it/s]\n",
      "Generating embeddings: 100%|██████████| 2048/2048 [00:45<00:00, 45.27it/s]\n",
      "Generating embeddings: 100%|██████████| 2048/2048 [00:45<00:00, 45.20it/s]\n",
      "Generating embeddings: 100%|██████████| 2048/2048 [00:45<00:00, 45.25it/s]\n",
      "Generating embeddings: 100%|██████████| 1684/1684 [00:37<00:00, 45.20it/s]\n",
      "Embedding chunks:  63%|██████▎   | 38/60 [6:12:20<6:30:28, 1064.92s/it]"
     ]
    },
    {
     "name": "stdout",
     "output_type": "stream",
     "text": [
      "✅ Finished chunk 37 (370000–380000) in 18.01 min\n"
     ]
    },
    {
     "name": "stderr",
     "output_type": "stream",
     "text": [
      "Parsing nodes: 100%|██████████| 10000/10000 [00:43<00:00, 230.57it/s]\n",
      "Generating embeddings: 100%|██████████| 2048/2048 [00:45<00:00, 45.17it/s]\n",
      "Generating embeddings: 100%|██████████| 2048/2048 [00:45<00:00, 45.36it/s]\n",
      "Generating embeddings: 100%|██████████| 2048/2048 [00:45<00:00, 45.22it/s]\n",
      "Generating embeddings: 100%|██████████| 2048/2048 [00:45<00:00, 45.24it/s]\n",
      "Generating embeddings: 100%|██████████| 2048/2048 [00:45<00:00, 45.25it/s]\n",
      "Generating embeddings: 100%|██████████| 2048/2048 [00:45<00:00, 45.12it/s]\n",
      "Generating embeddings: 100%|██████████| 2048/2048 [00:45<00:00, 45.29it/s]\n",
      "Generating embeddings: 100%|██████████| 2048/2048 [00:45<00:00, 45.25it/s]\n",
      "Generating embeddings: 100%|██████████| 2048/2048 [00:45<00:00, 45.18it/s]\n",
      "Generating embeddings: 100%|██████████| 2048/2048 [00:45<00:00, 45.17it/s]\n",
      "Generating embeddings: 100%|██████████| 2048/2048 [00:45<00:00, 45.21it/s]\n",
      "Generating embeddings: 100%|██████████| 2048/2048 [00:45<00:00, 45.24it/s]\n",
      "Generating embeddings: 100%|██████████| 2048/2048 [00:45<00:00, 45.21it/s]\n",
      "Generating embeddings: 100%|██████████| 2048/2048 [00:45<00:00, 45.19it/s]\n",
      "Generating embeddings: 100%|██████████| 2048/2048 [00:45<00:00, 45.19it/s]\n",
      "Generating embeddings: 100%|██████████| 2048/2048 [00:45<00:00, 45.22it/s]\n",
      "Generating embeddings: 100%|██████████| 2048/2048 [00:45<00:00, 45.28it/s]\n",
      "Generating embeddings: 100%|██████████| 2048/2048 [00:45<00:00, 45.15it/s]\n",
      "Generating embeddings: 100%|██████████| 2048/2048 [00:45<00:00, 45.21it/s]\n",
      "Generating embeddings: 100%|██████████| 2048/2048 [00:45<00:00, 45.18it/s]\n",
      "Generating embeddings: 100%|██████████| 2048/2048 [00:45<00:00, 45.20it/s]\n",
      "Generating embeddings: 100%|██████████| 2048/2048 [00:45<00:00, 45.17it/s]\n",
      "Generating embeddings: 100%|██████████| 2048/2048 [00:45<00:00, 45.14it/s]\n",
      "Generating embeddings: 100%|██████████| 2048/2048 [00:45<00:00, 45.33it/s]\n",
      "Generating embeddings: 100%|██████████| 2048/2048 [00:45<00:00, 45.15it/s]\n",
      "Generating embeddings: 100%|██████████| 1141/1141 [00:25<00:00, 45.18it/s]\n",
      "Embedding chunks:  65%|██████▌   | 39/60 [6:32:32<6:28:00, 1108.61s/it]"
     ]
    },
    {
     "name": "stdout",
     "output_type": "stream",
     "text": [
      "✅ Finished chunk 38 (380000–390000) in 20.20 min\n"
     ]
    },
    {
     "name": "stderr",
     "output_type": "stream",
     "text": [
      "Parsing nodes: 100%|██████████| 10000/10000 [00:35<00:00, 284.78it/s]\n",
      "Generating embeddings: 100%|██████████| 2048/2048 [00:45<00:00, 45.13it/s]\n",
      "Generating embeddings: 100%|██████████| 2048/2048 [00:45<00:00, 45.41it/s]\n",
      "Generating embeddings: 100%|██████████| 2048/2048 [00:45<00:00, 45.29it/s]\n",
      "Generating embeddings: 100%|██████████| 2048/2048 [00:45<00:00, 45.17it/s]\n",
      "Generating embeddings: 100%|██████████| 2048/2048 [00:45<00:00, 45.19it/s]\n",
      "Generating embeddings: 100%|██████████| 2048/2048 [00:45<00:00, 45.24it/s]\n",
      "Generating embeddings: 100%|██████████| 2048/2048 [00:45<00:00, 45.27it/s]\n",
      "Generating embeddings: 100%|██████████| 2048/2048 [00:45<00:00, 45.26it/s]\n",
      "Generating embeddings: 100%|██████████| 2048/2048 [00:45<00:00, 45.16it/s]\n",
      "Generating embeddings: 100%|██████████| 2048/2048 [00:45<00:00, 45.15it/s]\n",
      "Generating embeddings: 100%|██████████| 2048/2048 [00:45<00:00, 45.13it/s]\n",
      "Generating embeddings: 100%|██████████| 2048/2048 [00:45<00:00, 45.11it/s]\n",
      "Generating embeddings: 100%|██████████| 2048/2048 [00:45<00:00, 45.18it/s]\n",
      "Generating embeddings: 100%|██████████| 2048/2048 [00:45<00:00, 45.13it/s]\n",
      "Generating embeddings: 100%|██████████| 2048/2048 [00:45<00:00, 45.23it/s]\n",
      "Generating embeddings: 100%|██████████| 2048/2048 [00:45<00:00, 45.38it/s]\n",
      "Generating embeddings: 100%|██████████| 2048/2048 [00:45<00:00, 45.28it/s]\n",
      "Generating embeddings: 100%|██████████| 2048/2048 [00:45<00:00, 45.20it/s]\n",
      "Generating embeddings: 100%|██████████| 2048/2048 [00:45<00:00, 45.20it/s]\n",
      "Generating embeddings: 100%|██████████| 2048/2048 [00:45<00:00, 45.25it/s]\n",
      "Generating embeddings: 100%|██████████| 2048/2048 [00:45<00:00, 45.21it/s]\n",
      "Generating embeddings: 100%|██████████| 2048/2048 [00:45<00:00, 45.24it/s]\n",
      "Embedding chunks:  67%|██████▋   | 40/60 [6:49:53<6:02:48, 1088.41s/it]"
     ]
    },
    {
     "name": "stdout",
     "output_type": "stream",
     "text": [
      "✅ Finished chunk 39 (390000–400000) in 17.35 min\n"
     ]
    },
    {
     "name": "stderr",
     "output_type": "stream",
     "text": [
      "Parsing nodes: 100%|██████████| 10000/10000 [00:46<00:00, 214.81it/s]\n",
      "Generating embeddings: 100%|██████████| 2048/2048 [00:45<00:00, 45.19it/s]\n",
      "Generating embeddings: 100%|██████████| 2048/2048 [00:45<00:00, 45.33it/s]\n",
      "Generating embeddings: 100%|██████████| 2048/2048 [00:45<00:00, 45.19it/s]\n",
      "Generating embeddings: 100%|██████████| 2048/2048 [00:45<00:00, 45.14it/s]\n",
      "Generating embeddings: 100%|██████████| 2048/2048 [00:45<00:00, 45.14it/s]\n",
      "Generating embeddings: 100%|██████████| 2048/2048 [00:45<00:00, 45.23it/s]\n",
      "Generating embeddings: 100%|██████████| 2048/2048 [00:45<00:00, 45.27it/s]\n",
      "Generating embeddings: 100%|██████████| 2048/2048 [00:45<00:00, 45.25it/s]\n",
      "Generating embeddings: 100%|██████████| 2048/2048 [00:45<00:00, 45.24it/s]\n",
      "Generating embeddings: 100%|██████████| 2048/2048 [00:46<00:00, 43.85it/s]\n",
      "Generating embeddings: 100%|██████████| 2048/2048 [00:45<00:00, 45.17it/s]\n",
      "Generating embeddings: 100%|██████████| 2048/2048 [00:45<00:00, 45.16it/s]\n",
      "Generating embeddings: 100%|██████████| 2048/2048 [00:45<00:00, 45.21it/s]\n",
      "Generating embeddings: 100%|██████████| 2048/2048 [00:45<00:00, 45.14it/s]\n",
      "Generating embeddings: 100%|██████████| 2048/2048 [00:45<00:00, 45.17it/s]\n",
      "Generating embeddings: 100%|██████████| 2048/2048 [00:45<00:00, 45.18it/s]\n",
      "Generating embeddings: 100%|██████████| 2048/2048 [00:45<00:00, 45.24it/s]\n",
      "Generating embeddings: 100%|██████████| 2048/2048 [00:45<00:00, 45.22it/s]\n",
      "Generating embeddings: 100%|██████████| 2048/2048 [00:45<00:00, 45.19it/s]\n",
      "Generating embeddings: 100%|██████████| 2048/2048 [00:45<00:00, 45.21it/s]\n",
      "Generating embeddings: 100%|██████████| 2048/2048 [00:45<00:00, 45.30it/s]\n",
      "Generating embeddings: 100%|██████████| 2048/2048 [00:45<00:00, 45.19it/s]\n",
      "Generating embeddings: 100%|██████████| 2048/2048 [00:45<00:00, 44.86it/s]\n",
      "Generating embeddings: 100%|██████████| 2048/2048 [00:45<00:00, 45.28it/s]\n",
      "Generating embeddings: 100%|██████████| 2048/2048 [00:45<00:00, 45.08it/s]\n",
      "Generating embeddings: 100%|██████████| 2048/2048 [00:45<00:00, 45.08it/s]\n",
      "Generating embeddings: 100%|██████████| 2048/2048 [00:45<00:00, 45.10it/s]\n",
      "Generating embeddings: 100%|██████████| 1403/1403 [00:31<00:00, 45.05it/s]\n",
      "Embedding chunks:  68%|██████▊   | 41/60 [7:11:46<6:05:56, 1155.61s/it]"
     ]
    },
    {
     "name": "stdout",
     "output_type": "stream",
     "text": [
      "✅ Finished chunk 40 (400000–410000) in 21.89 min\n"
     ]
    },
    {
     "name": "stderr",
     "output_type": "stream",
     "text": [
      "Parsing nodes: 100%|██████████| 10000/10000 [00:42<00:00, 236.55it/s]\n",
      "Generating embeddings: 100%|██████████| 2048/2048 [00:45<00:00, 45.00it/s]\n",
      "Generating embeddings: 100%|██████████| 2048/2048 [00:45<00:00, 45.35it/s]\n",
      "Generating embeddings: 100%|██████████| 2048/2048 [00:45<00:00, 44.99it/s]\n",
      "Generating embeddings: 100%|██████████| 2048/2048 [00:45<00:00, 45.19it/s]\n",
      "Generating embeddings: 100%|██████████| 2048/2048 [00:45<00:00, 45.11it/s]\n",
      "Generating embeddings: 100%|██████████| 2048/2048 [00:45<00:00, 45.13it/s]\n",
      "Generating embeddings: 100%|██████████| 2048/2048 [00:45<00:00, 45.14it/s]\n",
      "Generating embeddings: 100%|██████████| 2048/2048 [00:45<00:00, 44.98it/s]\n",
      "Generating embeddings: 100%|██████████| 2048/2048 [00:45<00:00, 44.94it/s]\n",
      "Generating embeddings: 100%|██████████| 2048/2048 [00:45<00:00, 45.23it/s]\n",
      "Generating embeddings: 100%|██████████| 2048/2048 [00:45<00:00, 45.31it/s]\n",
      "Generating embeddings: 100%|██████████| 2048/2048 [00:45<00:00, 45.20it/s]\n",
      "Generating embeddings: 100%|██████████| 2048/2048 [00:45<00:00, 45.14it/s]\n",
      "Generating embeddings: 100%|██████████| 2048/2048 [00:45<00:00, 45.42it/s]\n",
      "Generating embeddings: 100%|██████████| 2048/2048 [00:45<00:00, 45.14it/s]\n",
      "Generating embeddings: 100%|██████████| 2048/2048 [00:45<00:00, 45.04it/s]\n",
      "Generating embeddings: 100%|██████████| 2048/2048 [00:45<00:00, 45.16it/s]\n",
      "Generating embeddings: 100%|██████████| 2048/2048 [00:45<00:00, 45.19it/s]\n",
      "Generating embeddings: 100%|██████████| 2048/2048 [00:45<00:00, 45.19it/s]\n",
      "Generating embeddings: 100%|██████████| 2048/2048 [00:45<00:00, 45.14it/s]\n",
      "Generating embeddings: 100%|██████████| 2048/2048 [00:45<00:00, 45.22it/s]\n",
      "Generating embeddings: 100%|██████████| 2048/2048 [00:45<00:00, 45.15it/s]\n",
      "Generating embeddings: 100%|██████████| 2048/2048 [00:45<00:00, 45.21it/s]\n",
      "Generating embeddings: 100%|██████████| 2048/2048 [00:45<00:00, 45.20it/s]\n",
      "Generating embeddings: 100%|██████████| 1398/1398 [00:30<00:00, 45.10it/s]\n",
      "Embedding chunks:  70%|███████   | 42/60 [7:31:19<5:48:12, 1160.71s/it]"
     ]
    },
    {
     "name": "stdout",
     "output_type": "stream",
     "text": [
      "✅ Finished chunk 41 (410000–420000) in 19.54 min\n"
     ]
    },
    {
     "name": "stderr",
     "output_type": "stream",
     "text": [
      "Parsing nodes: 100%|██████████| 10000/10000 [00:42<00:00, 236.22it/s]\n",
      "Generating embeddings: 100%|██████████| 2048/2048 [00:45<00:00, 45.18it/s]\n",
      "Generating embeddings: 100%|██████████| 2048/2048 [00:45<00:00, 45.26it/s]\n",
      "Generating embeddings: 100%|██████████| 2048/2048 [00:45<00:00, 45.16it/s]\n",
      "Generating embeddings: 100%|██████████| 2048/2048 [00:45<00:00, 45.12it/s]\n",
      "Generating embeddings: 100%|██████████| 2048/2048 [00:45<00:00, 45.21it/s]\n",
      "Generating embeddings: 100%|██████████| 2048/2048 [00:45<00:00, 45.22it/s]\n",
      "Generating embeddings: 100%|██████████| 2048/2048 [00:45<00:00, 45.20it/s]\n",
      "Generating embeddings: 100%|██████████| 2048/2048 [00:45<00:00, 45.12it/s]\n",
      "Generating embeddings: 100%|██████████| 2048/2048 [00:45<00:00, 45.09it/s]\n",
      "Generating embeddings: 100%|██████████| 2048/2048 [00:45<00:00, 45.16it/s]\n",
      "Generating embeddings: 100%|██████████| 2048/2048 [00:45<00:00, 45.09it/s]\n",
      "Generating embeddings: 100%|██████████| 2048/2048 [00:45<00:00, 45.16it/s]\n",
      "Generating embeddings: 100%|██████████| 2048/2048 [00:45<00:00, 45.24it/s]\n",
      "Generating embeddings: 100%|██████████| 2048/2048 [00:45<00:00, 45.14it/s]\n",
      "Generating embeddings: 100%|██████████| 2048/2048 [00:45<00:00, 45.18it/s]\n",
      "Generating embeddings: 100%|██████████| 2048/2048 [00:45<00:00, 45.09it/s]\n",
      "Generating embeddings: 100%|██████████| 2048/2048 [00:45<00:00, 45.15it/s]\n",
      "Generating embeddings: 100%|██████████| 2048/2048 [00:45<00:00, 45.09it/s]\n",
      "Generating embeddings: 100%|██████████| 2048/2048 [00:45<00:00, 45.09it/s]\n",
      "Generating embeddings: 100%|██████████| 2048/2048 [00:45<00:00, 45.10it/s]\n",
      "Generating embeddings: 100%|██████████| 2048/2048 [00:45<00:00, 45.08it/s]\n",
      "Generating embeddings: 100%|██████████| 2048/2048 [00:45<00:00, 45.12it/s]\n",
      "Generating embeddings: 100%|██████████| 2048/2048 [00:45<00:00, 45.11it/s]\n",
      "Generating embeddings: 100%|██████████| 2048/2048 [00:45<00:00, 45.12it/s]\n",
      "Generating embeddings: 100%|██████████| 2048/2048 [00:45<00:00, 45.16it/s]\n",
      "Generating embeddings: 100%|██████████| 309/309 [00:06<00:00, 44.82it/s]\n",
      "Embedding chunks:  72%|███████▏  | 43/60 [7:51:13<5:31:43, 1170.78s/it]"
     ]
    },
    {
     "name": "stdout",
     "output_type": "stream",
     "text": [
      "✅ Finished chunk 42 (420000–430000) in 19.91 min\n"
     ]
    },
    {
     "name": "stderr",
     "output_type": "stream",
     "text": [
      "Parsing nodes: 100%|██████████| 10000/10000 [00:44<00:00, 225.35it/s]\n",
      "Generating embeddings: 100%|██████████| 2048/2048 [00:45<00:00, 44.63it/s]\n",
      "Generating embeddings: 100%|██████████| 2048/2048 [00:45<00:00, 44.89it/s]\n",
      "Generating embeddings: 100%|██████████| 2048/2048 [00:45<00:00, 44.97it/s]\n",
      "Generating embeddings: 100%|██████████| 2048/2048 [00:45<00:00, 44.95it/s]\n",
      "Generating embeddings: 100%|██████████| 2048/2048 [00:45<00:00, 45.02it/s]\n",
      "Generating embeddings: 100%|██████████| 2048/2048 [00:45<00:00, 45.02it/s]\n",
      "Generating embeddings: 100%|██████████| 2048/2048 [00:45<00:00, 45.00it/s]\n",
      "Generating embeddings: 100%|██████████| 2048/2048 [00:45<00:00, 45.19it/s]\n",
      "Generating embeddings: 100%|██████████| 2048/2048 [00:45<00:00, 45.13it/s]\n",
      "Generating embeddings: 100%|██████████| 2048/2048 [00:45<00:00, 44.93it/s]\n",
      "Generating embeddings: 100%|██████████| 2048/2048 [00:45<00:00, 44.95it/s]\n",
      "Generating embeddings: 100%|██████████| 2048/2048 [00:45<00:00, 45.03it/s]\n",
      "Generating embeddings: 100%|██████████| 2048/2048 [00:45<00:00, 45.04it/s]\n",
      "Generating embeddings: 100%|██████████| 2048/2048 [00:45<00:00, 45.04it/s]\n",
      "Generating embeddings: 100%|██████████| 2048/2048 [00:45<00:00, 44.96it/s]\n",
      "Generating embeddings: 100%|██████████| 2048/2048 [00:45<00:00, 45.03it/s]\n",
      "Generating embeddings: 100%|██████████| 2048/2048 [00:45<00:00, 44.99it/s]\n",
      "Generating embeddings: 100%|██████████| 2048/2048 [00:45<00:00, 44.99it/s]\n",
      "Generating embeddings: 100%|██████████| 2048/2048 [00:45<00:00, 45.08it/s]\n",
      "Generating embeddings: 100%|██████████| 2048/2048 [00:45<00:00, 45.31it/s]\n",
      "Generating embeddings: 100%|██████████| 2048/2048 [00:45<00:00, 45.03it/s]\n",
      "Generating embeddings: 100%|██████████| 2048/2048 [00:45<00:00, 45.07it/s]\n",
      "Generating embeddings: 100%|██████████| 1697/1697 [00:37<00:00, 45.05it/s]\n",
      "Embedding chunks:  73%|███████▎  | 44/60 [8:09:25<5:05:53, 1147.08s/it]"
     ]
    },
    {
     "name": "stdout",
     "output_type": "stream",
     "text": [
      "✅ Finished chunk 43 (430000–440000) in 18.19 min\n"
     ]
    },
    {
     "name": "stderr",
     "output_type": "stream",
     "text": [
      "Parsing nodes: 100%|██████████| 10000/10000 [00:38<00:00, 258.72it/s]\n",
      "Generating embeddings: 100%|██████████| 2048/2048 [00:45<00:00, 45.24it/s]\n",
      "Generating embeddings: 100%|██████████| 2048/2048 [00:45<00:00, 45.27it/s]\n",
      "Generating embeddings: 100%|██████████| 2048/2048 [00:45<00:00, 45.19it/s]\n",
      "Generating embeddings: 100%|██████████| 2048/2048 [00:45<00:00, 45.32it/s]\n",
      "Generating embeddings: 100%|██████████| 2048/2048 [00:45<00:00, 45.20it/s]\n",
      "Generating embeddings: 100%|██████████| 2048/2048 [00:45<00:00, 45.33it/s]\n",
      "Generating embeddings: 100%|██████████| 2048/2048 [00:45<00:00, 45.24it/s]\n",
      "Generating embeddings: 100%|██████████| 2048/2048 [00:45<00:00, 45.30it/s]\n",
      "Generating embeddings: 100%|██████████| 2048/2048 [00:45<00:00, 45.03it/s]\n",
      "Generating embeddings: 100%|██████████| 2048/2048 [00:45<00:00, 45.30it/s]\n",
      "Generating embeddings: 100%|██████████| 2048/2048 [00:45<00:00, 45.26it/s]\n",
      "Generating embeddings: 100%|██████████| 2048/2048 [00:45<00:00, 45.23it/s]\n",
      "Generating embeddings: 100%|██████████| 2048/2048 [00:45<00:00, 45.20it/s]\n",
      "Generating embeddings: 100%|██████████| 2048/2048 [00:45<00:00, 45.20it/s]\n",
      "Generating embeddings: 100%|██████████| 2048/2048 [00:45<00:00, 45.22it/s]\n",
      "Generating embeddings: 100%|██████████| 2048/2048 [00:45<00:00, 44.96it/s]\n",
      "Generating embeddings: 100%|██████████| 2048/2048 [00:45<00:00, 45.14it/s]\n",
      "Generating embeddings: 100%|██████████| 2048/2048 [00:45<00:00, 45.16it/s]\n",
      "Generating embeddings: 100%|██████████| 2048/2048 [00:45<00:00, 45.25it/s]\n",
      "Generating embeddings: 100%|██████████| 2048/2048 [00:45<00:00, 45.25it/s]\n",
      "Generating embeddings: 100%|██████████| 2048/2048 [00:45<00:00, 45.21it/s]\n",
      "Generating embeddings: 100%|██████████| 2048/2048 [00:45<00:00, 45.13it/s]\n",
      "Generating embeddings: 100%|██████████| 574/574 [00:12<00:00, 45.08it/s]\n",
      "Embedding chunks:  75%|███████▌  | 45/60 [8:27:01<4:39:57, 1119.86s/it]"
     ]
    },
    {
     "name": "stdout",
     "output_type": "stream",
     "text": [
      "✅ Finished chunk 44 (440000–450000) in 17.60 min\n"
     ]
    },
    {
     "name": "stderr",
     "output_type": "stream",
     "text": [
      "Parsing nodes: 100%|██████████| 10000/10000 [00:38<00:00, 257.99it/s]\n",
      "Generating embeddings: 100%|██████████| 2048/2048 [00:45<00:00, 45.20it/s]\n",
      "Generating embeddings: 100%|██████████| 2048/2048 [00:45<00:00, 45.28it/s]\n",
      "Generating embeddings: 100%|██████████| 2048/2048 [00:45<00:00, 45.38it/s]\n",
      "Generating embeddings: 100%|██████████| 2048/2048 [00:45<00:00, 45.32it/s]\n",
      "Generating embeddings: 100%|██████████| 2048/2048 [00:45<00:00, 45.20it/s]\n",
      "Generating embeddings: 100%|██████████| 2048/2048 [00:45<00:00, 45.31it/s]\n",
      "Generating embeddings: 100%|██████████| 2048/2048 [00:45<00:00, 45.24it/s]\n",
      "Generating embeddings: 100%|██████████| 2048/2048 [00:45<00:00, 45.29it/s]\n",
      "Generating embeddings: 100%|██████████| 2048/2048 [00:45<00:00, 45.29it/s]\n",
      "Generating embeddings: 100%|██████████| 2048/2048 [00:45<00:00, 45.22it/s]\n",
      "Generating embeddings: 100%|██████████| 2048/2048 [00:45<00:00, 45.19it/s]\n",
      "Generating embeddings: 100%|██████████| 2048/2048 [00:45<00:00, 45.29it/s]\n",
      "Generating embeddings: 100%|██████████| 2048/2048 [00:45<00:00, 45.32it/s]\n",
      "Generating embeddings: 100%|██████████| 2048/2048 [00:45<00:00, 45.27it/s]\n",
      "Generating embeddings: 100%|██████████| 2048/2048 [00:45<00:00, 45.30it/s]\n",
      "Generating embeddings: 100%|██████████| 2048/2048 [00:45<00:00, 45.13it/s]\n",
      "Generating embeddings: 100%|██████████| 2048/2048 [00:45<00:00, 45.17it/s]\n",
      "Generating embeddings: 100%|██████████| 2048/2048 [00:45<00:00, 45.22it/s]\n",
      "Generating embeddings: 100%|██████████| 2048/2048 [00:45<00:00, 45.24it/s]\n",
      "Generating embeddings: 100%|██████████| 2048/2048 [00:45<00:00, 45.13it/s]\n",
      "Generating embeddings: 100%|██████████| 2048/2048 [00:45<00:00, 45.15it/s]\n",
      "Generating embeddings: 100%|██████████| 2048/2048 [00:45<00:00, 45.21it/s]\n",
      "Generating embeddings: 100%|██████████| 1567/1567 [00:34<00:00, 45.17it/s]\n",
      "Embedding chunks:  77%|███████▋  | 46/60 [8:44:59<4:18:20, 1107.16s/it]"
     ]
    },
    {
     "name": "stdout",
     "output_type": "stream",
     "text": [
      "✅ Finished chunk 45 (450000–460000) in 17.96 min\n"
     ]
    },
    {
     "name": "stderr",
     "output_type": "stream",
     "text": [
      "Parsing nodes: 100%|██████████| 10000/10000 [00:43<00:00, 230.67it/s]\n",
      "Generating embeddings: 100%|██████████| 2048/2048 [00:45<00:00, 45.09it/s]\n",
      "Generating embeddings: 100%|██████████| 2048/2048 [00:45<00:00, 45.34it/s]\n",
      "Generating embeddings: 100%|██████████| 2048/2048 [00:45<00:00, 45.35it/s]\n",
      "Generating embeddings: 100%|██████████| 2048/2048 [00:45<00:00, 45.39it/s]\n",
      "Generating embeddings: 100%|██████████| 2048/2048 [00:45<00:00, 45.29it/s]\n",
      "Generating embeddings: 100%|██████████| 2048/2048 [00:45<00:00, 45.23it/s]\n",
      "Generating embeddings: 100%|██████████| 2048/2048 [00:45<00:00, 45.29it/s]\n",
      "Generating embeddings: 100%|██████████| 2048/2048 [00:45<00:00, 45.24it/s]\n",
      "Generating embeddings: 100%|██████████| 2048/2048 [00:45<00:00, 45.29it/s]\n",
      "Generating embeddings: 100%|██████████| 2048/2048 [00:45<00:00, 45.20it/s]\n",
      "Generating embeddings: 100%|██████████| 2048/2048 [00:45<00:00, 45.21it/s]\n",
      "Generating embeddings: 100%|██████████| 2048/2048 [00:45<00:00, 45.26it/s]\n",
      "Generating embeddings: 100%|██████████| 2048/2048 [00:45<00:00, 45.32it/s]\n",
      "Generating embeddings: 100%|██████████| 2048/2048 [00:45<00:00, 45.29it/s]\n",
      "Generating embeddings: 100%|██████████| 2048/2048 [00:45<00:00, 45.23it/s]\n",
      "Generating embeddings: 100%|██████████| 2048/2048 [00:45<00:00, 44.83it/s]\n",
      "Generating embeddings: 100%|██████████| 2048/2048 [00:45<00:00, 45.25it/s]\n",
      "Generating embeddings: 100%|██████████| 2048/2048 [00:45<00:00, 45.18it/s]\n",
      "Generating embeddings: 100%|██████████| 2048/2048 [00:45<00:00, 45.23it/s]\n",
      "Generating embeddings: 100%|██████████| 2048/2048 [00:45<00:00, 45.25it/s]\n",
      "Generating embeddings: 100%|██████████| 2048/2048 [00:45<00:00, 45.30it/s]\n",
      "Generating embeddings: 100%|██████████| 2048/2048 [00:45<00:00, 45.17it/s]\n",
      "Generating embeddings: 100%|██████████| 2048/2048 [00:45<00:00, 44.92it/s]\n",
      "Generating embeddings: 100%|██████████| 2048/2048 [00:45<00:00, 45.16it/s]\n",
      "Generating embeddings: 100%|██████████| 2048/2048 [00:45<00:00, 45.15it/s]\n",
      "Generating embeddings: 100%|██████████| 1444/1444 [00:32<00:00, 45.12it/s]\n",
      "Embedding chunks:  78%|███████▊  | 47/60 [9:05:16<4:07:01, 1140.12s/it]"
     ]
    },
    {
     "name": "stdout",
     "output_type": "stream",
     "text": [
      "✅ Finished chunk 46 (460000–470000) in 20.28 min\n"
     ]
    },
    {
     "name": "stderr",
     "output_type": "stream",
     "text": [
      "Parsing nodes: 100%|██████████| 10000/10000 [00:39<00:00, 252.81it/s]\n",
      "Generating embeddings: 100%|██████████| 2048/2048 [00:45<00:00, 45.04it/s]\n",
      "Generating embeddings: 100%|██████████| 2048/2048 [00:45<00:00, 45.27it/s]\n",
      "Generating embeddings: 100%|██████████| 2048/2048 [00:45<00:00, 45.22it/s]\n",
      "Generating embeddings: 100%|██████████| 2048/2048 [00:45<00:00, 45.17it/s]\n",
      "Generating embeddings: 100%|██████████| 2048/2048 [00:45<00:00, 45.18it/s]\n",
      "Generating embeddings: 100%|██████████| 2048/2048 [00:45<00:00, 45.25it/s]\n",
      "Generating embeddings: 100%|██████████| 2048/2048 [00:45<00:00, 45.03it/s]\n",
      "Generating embeddings: 100%|██████████| 2048/2048 [00:45<00:00, 45.12it/s]\n",
      "Generating embeddings: 100%|██████████| 2048/2048 [00:45<00:00, 45.18it/s]\n",
      "Generating embeddings: 100%|██████████| 2048/2048 [00:45<00:00, 45.11it/s]\n",
      "Generating embeddings: 100%|██████████| 2048/2048 [00:45<00:00, 45.08it/s]\n",
      "Generating embeddings: 100%|██████████| 2048/2048 [00:45<00:00, 45.15it/s]\n",
      "Generating embeddings: 100%|██████████| 2048/2048 [00:45<00:00, 45.11it/s]\n",
      "Generating embeddings: 100%|██████████| 2048/2048 [00:45<00:00, 45.13it/s]\n",
      "Generating embeddings: 100%|██████████| 2048/2048 [00:45<00:00, 45.11it/s]\n",
      "Generating embeddings: 100%|██████████| 2048/2048 [00:45<00:00, 45.12it/s]\n",
      "Generating embeddings: 100%|██████████| 2048/2048 [00:45<00:00, 45.08it/s]\n",
      "Generating embeddings: 100%|██████████| 2048/2048 [00:45<00:00, 45.07it/s]\n",
      "Generating embeddings: 100%|██████████| 2048/2048 [00:45<00:00, 45.16it/s]\n",
      "Generating embeddings: 100%|██████████| 2048/2048 [00:45<00:00, 45.04it/s]\n",
      "Generating embeddings: 100%|██████████| 2048/2048 [00:45<00:00, 45.08it/s]\n",
      "Generating embeddings: 100%|██████████| 2048/2048 [00:45<00:00, 45.10it/s]\n",
      "Generating embeddings: 100%|██████████| 2048/2048 [00:45<00:00, 45.11it/s]\n",
      "Generating embeddings: 100%|██████████| 1628/1628 [00:36<00:00, 45.16it/s]\n",
      "Embedding chunks:  80%|████████  | 48/60 [9:24:04<3:47:17, 1136.50s/it]"
     ]
    },
    {
     "name": "stdout",
     "output_type": "stream",
     "text": [
      "✅ Finished chunk 47 (470000–480000) in 18.80 min\n"
     ]
    },
    {
     "name": "stderr",
     "output_type": "stream",
     "text": [
      "Parsing nodes: 100%|██████████| 10000/10000 [00:39<00:00, 251.59it/s]\n",
      "Generating embeddings: 100%|██████████| 2048/2048 [00:45<00:00, 45.17it/s]\n",
      "Generating embeddings: 100%|██████████| 2048/2048 [00:45<00:00, 45.30it/s]\n",
      "Generating embeddings: 100%|██████████| 2048/2048 [00:45<00:00, 45.11it/s]\n",
      "Generating embeddings: 100%|██████████| 2048/2048 [00:45<00:00, 45.06it/s]\n",
      "Generating embeddings: 100%|██████████| 2048/2048 [00:45<00:00, 45.16it/s]\n",
      "Generating embeddings: 100%|██████████| 2048/2048 [00:45<00:00, 45.17it/s]\n",
      "Generating embeddings: 100%|██████████| 2048/2048 [00:45<00:00, 45.13it/s]\n",
      "Generating embeddings: 100%|██████████| 2048/2048 [00:45<00:00, 45.20it/s]\n",
      "Generating embeddings: 100%|██████████| 2048/2048 [00:45<00:00, 45.16it/s]\n",
      "Generating embeddings: 100%|██████████| 2048/2048 [00:45<00:00, 45.21it/s]\n",
      "Generating embeddings: 100%|██████████| 2048/2048 [00:45<00:00, 45.17it/s]\n",
      "Generating embeddings: 100%|██████████| 2048/2048 [00:45<00:00, 45.18it/s]\n",
      "Generating embeddings: 100%|██████████| 2048/2048 [00:45<00:00, 45.13it/s]\n",
      "Generating embeddings: 100%|██████████| 2048/2048 [00:45<00:00, 45.12it/s]\n",
      "Generating embeddings: 100%|██████████| 2048/2048 [00:45<00:00, 45.23it/s]\n",
      "Generating embeddings: 100%|██████████| 2048/2048 [00:45<00:00, 45.14it/s]\n",
      "Generating embeddings: 100%|██████████| 2048/2048 [00:45<00:00, 45.20it/s]\n",
      "Generating embeddings: 100%|██████████| 2048/2048 [00:45<00:00, 45.07it/s]\n",
      "Generating embeddings: 100%|██████████| 2048/2048 [00:45<00:00, 45.09it/s]\n",
      "Generating embeddings: 100%|██████████| 2048/2048 [00:45<00:00, 45.09it/s]\n",
      "Generating embeddings: 100%|██████████| 2048/2048 [00:45<00:00, 45.05it/s]\n",
      "Generating embeddings: 100%|██████████| 2048/2048 [00:45<00:00, 45.06it/s]\n",
      "Generating embeddings: 100%|██████████| 2048/2048 [00:45<00:00, 45.00it/s]\n",
      "Generating embeddings: 100%|██████████| 1604/1604 [00:35<00:00, 44.90it/s]\n",
      "Embedding chunks:  82%|████████▏ | 49/60 [9:42:52<3:27:52, 1133.85s/it]"
     ]
    },
    {
     "name": "stdout",
     "output_type": "stream",
     "text": [
      "✅ Finished chunk 48 (480000–490000) in 18.79 min\n"
     ]
    },
    {
     "name": "stderr",
     "output_type": "stream",
     "text": [
      "Parsing nodes: 100%|██████████| 10000/10000 [00:37<00:00, 264.98it/s]\n",
      "Generating embeddings: 100%|██████████| 2048/2048 [00:45<00:00, 45.08it/s]\n",
      "Generating embeddings: 100%|██████████| 2048/2048 [00:45<00:00, 45.25it/s]\n",
      "Generating embeddings: 100%|██████████| 2048/2048 [00:45<00:00, 45.30it/s]\n",
      "Generating embeddings: 100%|██████████| 2048/2048 [00:45<00:00, 45.11it/s]\n",
      "Generating embeddings: 100%|██████████| 2048/2048 [00:45<00:00, 45.15it/s]\n",
      "Generating embeddings: 100%|██████████| 2048/2048 [00:45<00:00, 44.61it/s]\n",
      "Generating embeddings: 100%|██████████| 2048/2048 [00:45<00:00, 45.06it/s]\n",
      "Generating embeddings: 100%|██████████| 2048/2048 [00:45<00:00, 45.24it/s]\n",
      "Generating embeddings: 100%|██████████| 2048/2048 [00:45<00:00, 45.02it/s]\n",
      "Generating embeddings: 100%|██████████| 2048/2048 [00:45<00:00, 44.96it/s]\n",
      "Generating embeddings: 100%|██████████| 2048/2048 [00:45<00:00, 45.12it/s]\n",
      "Generating embeddings: 100%|██████████| 2048/2048 [00:45<00:00, 45.05it/s]\n",
      "Generating embeddings: 100%|██████████| 2048/2048 [00:45<00:00, 44.95it/s]\n",
      "Generating embeddings: 100%|██████████| 2048/2048 [00:45<00:00, 45.20it/s]\n",
      "Generating embeddings: 100%|██████████| 2048/2048 [00:45<00:00, 45.25it/s]\n",
      "Generating embeddings: 100%|██████████| 2048/2048 [00:45<00:00, 45.20it/s]\n",
      "Generating embeddings: 100%|██████████| 2048/2048 [00:45<00:00, 45.20it/s]\n",
      "Generating embeddings: 100%|██████████| 2048/2048 [00:45<00:00, 45.29it/s]\n",
      "Generating embeddings: 100%|██████████| 2048/2048 [00:45<00:00, 45.16it/s]\n",
      "Generating embeddings: 100%|██████████| 2048/2048 [00:45<00:00, 45.23it/s]\n",
      "Generating embeddings: 100%|██████████| 2048/2048 [00:45<00:00, 45.21it/s]\n",
      "Generating embeddings: 100%|██████████| 2048/2048 [00:45<00:00, 45.20it/s]\n",
      "Generating embeddings: 100%|██████████| 1159/1159 [00:26<00:00, 43.64it/s]\n",
      "Embedding chunks:  83%|████████▎ | 50/60 [10:00:43<3:05:50, 1115.02s/it]"
     ]
    },
    {
     "name": "stdout",
     "output_type": "stream",
     "text": [
      "✅ Finished chunk 49 (490000–500000) in 17.85 min\n"
     ]
    },
    {
     "name": "stderr",
     "output_type": "stream",
     "text": [
      "Parsing nodes: 100%|██████████| 10000/10000 [00:46<00:00, 216.88it/s]\n",
      "Generating embeddings: 100%|██████████| 2048/2048 [00:53<00:00, 38.47it/s]\n",
      "Generating embeddings: 100%|██████████| 2048/2048 [00:56<00:00, 36.21it/s]\n",
      "Generating embeddings: 100%|██████████| 2048/2048 [00:58<00:00, 35.21it/s]\n",
      "Generating embeddings: 100%|██████████| 2048/2048 [00:54<00:00, 37.64it/s]\n",
      "Generating embeddings: 100%|██████████| 2048/2048 [00:59<00:00, 34.29it/s]\n",
      "Generating embeddings: 100%|██████████| 2048/2048 [01:00<00:00, 33.73it/s]\n",
      "Generating embeddings: 100%|██████████| 2048/2048 [01:00<00:00, 34.07it/s]\n",
      "Generating embeddings: 100%|██████████| 2048/2048 [01:00<00:00, 33.74it/s]\n",
      "Generating embeddings: 100%|██████████| 2048/2048 [01:00<00:00, 34.09it/s]\n",
      "Generating embeddings: 100%|██████████| 2048/2048 [00:51<00:00, 39.41it/s]\n",
      "Generating embeddings: 100%|██████████| 2048/2048 [00:50<00:00, 40.19it/s]\n",
      "Generating embeddings: 100%|██████████| 2048/2048 [00:50<00:00, 40.16it/s]\n",
      "Generating embeddings: 100%|██████████| 2048/2048 [00:51<00:00, 39.98it/s]\n",
      "Generating embeddings: 100%|██████████| 2048/2048 [00:52<00:00, 38.93it/s]\n",
      "Generating embeddings: 100%|██████████| 2048/2048 [00:51<00:00, 39.55it/s]\n",
      "Generating embeddings: 100%|██████████| 2048/2048 [00:50<00:00, 40.34it/s]\n",
      "Generating embeddings: 100%|██████████| 2048/2048 [00:51<00:00, 39.72it/s]\n",
      "Generating embeddings: 100%|██████████| 2048/2048 [00:50<00:00, 40.18it/s]\n",
      "Generating embeddings: 100%|██████████| 2048/2048 [00:51<00:00, 39.98it/s]\n",
      "Generating embeddings: 100%|██████████| 2048/2048 [00:53<00:00, 38.04it/s]\n",
      "Generating embeddings: 100%|██████████| 2048/2048 [00:50<00:00, 40.44it/s]\n",
      "Generating embeddings: 100%|██████████| 2048/2048 [00:52<00:00, 39.28it/s]\n",
      "Generating embeddings: 100%|██████████| 634/634 [00:15<00:00, 39.82it/s]\n",
      "Embedding chunks:  85%|████████▌ | 51/60 [10:21:49<2:54:02, 1160.31s/it]"
     ]
    },
    {
     "name": "stdout",
     "output_type": "stream",
     "text": [
      "✅ Finished chunk 50 (500000–510000) in 21.10 min\n"
     ]
    },
    {
     "name": "stderr",
     "output_type": "stream",
     "text": [
      "Parsing nodes: 100%|██████████| 10000/10000 [00:42<00:00, 233.60it/s]\n",
      "Generating embeddings: 100%|██████████| 2048/2048 [00:48<00:00, 42.57it/s]\n",
      "Generating embeddings: 100%|██████████| 2048/2048 [00:48<00:00, 42.23it/s]\n",
      "Generating embeddings: 100%|██████████| 2048/2048 [00:49<00:00, 41.16it/s]\n",
      "Generating embeddings: 100%|██████████| 2048/2048 [00:47<00:00, 42.76it/s]\n",
      "Generating embeddings: 100%|██████████| 2048/2048 [00:49<00:00, 41.56it/s]\n",
      "Generating embeddings: 100%|██████████| 2048/2048 [00:53<00:00, 38.53it/s]\n",
      "Generating embeddings: 100%|██████████| 2048/2048 [00:58<00:00, 34.98it/s]\n",
      "Generating embeddings: 100%|██████████| 2048/2048 [00:58<00:00, 35.28it/s]\n",
      "Generating embeddings: 100%|██████████| 2048/2048 [00:52<00:00, 38.69it/s]\n",
      "Generating embeddings: 100%|██████████| 2048/2048 [00:51<00:00, 40.06it/s]\n",
      "Generating embeddings: 100%|██████████| 2048/2048 [00:52<00:00, 39.27it/s]\n",
      "Generating embeddings: 100%|██████████| 2048/2048 [00:52<00:00, 38.71it/s]\n",
      "Generating embeddings: 100%|██████████| 2048/2048 [01:04<00:00, 31.83it/s]\n",
      "Generating embeddings: 100%|██████████| 2048/2048 [00:50<00:00, 40.49it/s]\n",
      "Generating embeddings: 100%|██████████| 2048/2048 [01:14<00:00, 27.33it/s]\n",
      "Generating embeddings: 100%|██████████| 2048/2048 [01:19<00:00, 25.76it/s]\n",
      "Generating embeddings: 100%|██████████| 2048/2048 [01:06<00:00, 30.83it/s]\n",
      "Generating embeddings: 100%|██████████| 2048/2048 [01:19<00:00, 25.81it/s]\n",
      "Generating embeddings: 100%|██████████| 2048/2048 [01:08<00:00, 29.71it/s]\n",
      "Generating embeddings: 100%|██████████| 2048/2048 [01:00<00:00, 33.73it/s]\n",
      "Generating embeddings: 100%|██████████| 2048/2048 [00:56<00:00, 36.35it/s]\n",
      "Generating embeddings: 100%|██████████| 1640/1640 [00:44<00:00, 37.05it/s]\n",
      "Embedding chunks:  87%|████████▋ | 52/60 [10:43:50<2:41:08, 1208.59s/it]"
     ]
    },
    {
     "name": "stdout",
     "output_type": "stream",
     "text": [
      "✅ Finished chunk 51 (510000–520000) in 22.02 min\n"
     ]
    },
    {
     "name": "stderr",
     "output_type": "stream",
     "text": [
      "Parsing nodes: 100%|██████████| 10000/10000 [00:39<00:00, 254.03it/s]\n",
      "Generating embeddings: 100%|██████████| 2048/2048 [00:55<00:00, 37.11it/s]\n",
      "Generating embeddings: 100%|██████████| 2048/2048 [01:01<00:00, 33.10it/s]\n",
      "Generating embeddings: 100%|██████████| 2048/2048 [01:29<00:00, 22.83it/s]\n",
      "Generating embeddings: 100%|██████████| 2048/2048 [01:27<00:00, 23.30it/s]\n",
      "Generating embeddings: 100%|██████████| 2048/2048 [01:20<00:00, 25.35it/s]\n",
      "Generating embeddings: 100%|██████████| 2048/2048 [01:32<00:00, 22.21it/s]\n",
      "Generating embeddings: 100%|██████████| 2048/2048 [01:36<00:00, 21.14it/s]\n",
      "Generating embeddings: 100%|██████████| 2048/2048 [01:24<00:00, 24.14it/s]\n",
      "Generating embeddings: 100%|██████████| 2048/2048 [01:29<00:00, 22.92it/s]\n",
      "Generating embeddings: 100%|██████████| 2048/2048 [01:29<00:00, 22.95it/s]\n",
      "Generating embeddings: 100%|██████████| 2048/2048 [01:31<00:00, 22.32it/s]\n",
      "Generating embeddings: 100%|██████████| 2048/2048 [01:24<00:00, 24.34it/s]\n",
      "Generating embeddings: 100%|██████████| 2048/2048 [00:59<00:00, 34.38it/s]\n",
      "Generating embeddings: 100%|██████████| 2048/2048 [00:51<00:00, 39.87it/s]\n",
      "Generating embeddings: 100%|██████████| 2048/2048 [00:47<00:00, 43.54it/s]\n",
      "Generating embeddings: 100%|██████████| 2048/2048 [00:48<00:00, 42.31it/s]\n",
      "Generating embeddings: 100%|██████████| 2048/2048 [00:50<00:00, 40.73it/s]\n",
      "Generating embeddings: 100%|██████████| 2048/2048 [00:48<00:00, 41.92it/s]\n",
      "Generating embeddings: 100%|██████████| 2048/2048 [00:50<00:00, 40.74it/s]\n",
      "Generating embeddings: 100%|██████████| 2048/2048 [01:04<00:00, 31.95it/s]\n",
      "Generating embeddings: 100%|██████████| 1695/1695 [00:54<00:00, 31.16it/s]\n",
      "Embedding chunks:  88%|████████▊ | 53/60 [11:09:18<2:32:11, 1304.47s/it]"
     ]
    },
    {
     "name": "stdout",
     "output_type": "stream",
     "text": [
      "✅ Finished chunk 52 (520000–530000) in 25.47 min\n"
     ]
    },
    {
     "name": "stderr",
     "output_type": "stream",
     "text": [
      "Parsing nodes: 100%|██████████| 10000/10000 [00:54<00:00, 182.65it/s]\n",
      "Generating embeddings: 100%|██████████| 2048/2048 [01:04<00:00, 31.75it/s]\n",
      "Generating embeddings: 100%|██████████| 2048/2048 [01:05<00:00, 31.45it/s]\n",
      "Generating embeddings: 100%|██████████| 2048/2048 [01:07<00:00, 30.45it/s]\n",
      "Generating embeddings: 100%|██████████| 2048/2048 [01:07<00:00, 30.57it/s]\n",
      "Generating embeddings: 100%|██████████| 2048/2048 [01:03<00:00, 32.15it/s]\n",
      "Generating embeddings: 100%|██████████| 2048/2048 [01:07<00:00, 30.48it/s]\n",
      "Generating embeddings: 100%|██████████| 2048/2048 [01:05<00:00, 31.20it/s]\n",
      "Generating embeddings: 100%|██████████| 2048/2048 [01:04<00:00, 31.57it/s]\n",
      "Generating embeddings: 100%|██████████| 2048/2048 [01:09<00:00, 29.34it/s]\n",
      "Generating embeddings: 100%|██████████| 2048/2048 [01:06<00:00, 30.63it/s]\n",
      "Generating embeddings: 100%|██████████| 2048/2048 [01:06<00:00, 30.60it/s]\n",
      "Generating embeddings: 100%|██████████| 2048/2048 [01:08<00:00, 29.73it/s]\n",
      "Generating embeddings: 100%|██████████| 2048/2048 [01:07<00:00, 30.48it/s]\n",
      "Generating embeddings: 100%|██████████| 2048/2048 [01:06<00:00, 30.79it/s]\n",
      "Generating embeddings: 100%|██████████| 2048/2048 [01:10<00:00, 28.89it/s]\n",
      "Generating embeddings: 100%|██████████| 2048/2048 [01:04<00:00, 31.62it/s]\n",
      "Generating embeddings: 100%|██████████| 2048/2048 [01:08<00:00, 29.95it/s]\n",
      "Generating embeddings: 100%|██████████| 2048/2048 [01:09<00:00, 29.66it/s]\n",
      "Generating embeddings: 100%|██████████| 2048/2048 [01:06<00:00, 30.62it/s]\n",
      "Generating embeddings: 100%|██████████| 2048/2048 [01:05<00:00, 31.49it/s]\n",
      "Generating embeddings: 100%|██████████| 2048/2048 [01:05<00:00, 31.24it/s]\n",
      "Generating embeddings: 100%|██████████| 2048/2048 [01:06<00:00, 30.74it/s]\n",
      "Generating embeddings: 100%|██████████| 2048/2048 [01:06<00:00, 30.59it/s]\n",
      "Generating embeddings: 100%|██████████| 2048/2048 [01:07<00:00, 30.40it/s]\n",
      "Generating embeddings: 100%|██████████| 33/33 [00:01<00:00, 18.35it/s]\n",
      "Embedding chunks:  90%|█████████ | 54/60 [11:37:12<2:21:32, 1415.33s/it]"
     ]
    },
    {
     "name": "stdout",
     "output_type": "stream",
     "text": [
      "✅ Finished chunk 53 (530000–540000) in 27.90 min\n"
     ]
    },
    {
     "name": "stderr",
     "output_type": "stream",
     "text": [
      "Parsing nodes: 100%|██████████| 10000/10000 [00:54<00:00, 183.06it/s]\n",
      "Generating embeddings: 100%|██████████| 2048/2048 [01:07<00:00, 30.38it/s]\n",
      "Generating embeddings: 100%|██████████| 2048/2048 [01:05<00:00, 31.23it/s]\n",
      "Generating embeddings: 100%|██████████| 2048/2048 [01:08<00:00, 29.83it/s]\n",
      "Generating embeddings: 100%|██████████| 2048/2048 [01:07<00:00, 30.51it/s]\n",
      "Generating embeddings: 100%|██████████| 2048/2048 [01:06<00:00, 30.78it/s]\n",
      "Generating embeddings: 100%|██████████| 2048/2048 [01:05<00:00, 31.38it/s]\n",
      "Generating embeddings: 100%|██████████| 2048/2048 [01:05<00:00, 31.20it/s]\n",
      "Generating embeddings: 100%|██████████| 2048/2048 [01:05<00:00, 31.17it/s]\n",
      "Generating embeddings: 100%|██████████| 2048/2048 [01:08<00:00, 29.83it/s]\n",
      "Generating embeddings: 100%|██████████| 2048/2048 [01:06<00:00, 30.81it/s]\n",
      "Generating embeddings: 100%|██████████| 2048/2048 [01:04<00:00, 31.98it/s]\n",
      "Generating embeddings: 100%|██████████| 2048/2048 [01:06<00:00, 30.81it/s]\n",
      "Generating embeddings: 100%|██████████| 2048/2048 [01:05<00:00, 31.11it/s]\n",
      "Generating embeddings: 100%|██████████| 2048/2048 [01:06<00:00, 30.89it/s]\n",
      "Generating embeddings: 100%|██████████| 2048/2048 [01:07<00:00, 30.53it/s]\n",
      "Generating embeddings: 100%|██████████| 2048/2048 [01:05<00:00, 31.23it/s]\n",
      "Generating embeddings: 100%|██████████| 2048/2048 [01:02<00:00, 32.82it/s]\n",
      "Generating embeddings: 100%|██████████| 2048/2048 [01:05<00:00, 31.14it/s]\n",
      "Generating embeddings: 100%|██████████| 2048/2048 [01:06<00:00, 30.80it/s]\n",
      "Generating embeddings: 100%|██████████| 2048/2048 [00:59<00:00, 34.67it/s]\n",
      "Generating embeddings: 100%|██████████| 2048/2048 [01:05<00:00, 31.30it/s]\n",
      "Generating embeddings: 100%|██████████| 2048/2048 [01:03<00:00, 32.43it/s]\n",
      "Generating embeddings: 100%|██████████| 2048/2048 [00:54<00:00, 37.78it/s]\n",
      "Generating embeddings: 100%|██████████| 2048/2048 [01:10<00:00, 29.03it/s]\n",
      "Generating embeddings: 100%|██████████| 2044/2044 [01:05<00:00, 31.05it/s]\n",
      "Embedding chunks:  92%|█████████▏| 55/60 [12:05:37<2:05:10, 1502.20s/it]"
     ]
    },
    {
     "name": "stdout",
     "output_type": "stream",
     "text": [
      "✅ Finished chunk 54 (540000–550000) in 28.41 min\n"
     ]
    },
    {
     "name": "stderr",
     "output_type": "stream",
     "text": [
      "Parsing nodes: 100%|██████████| 10000/10000 [00:52<00:00, 189.40it/s]\n",
      "Generating embeddings: 100%|██████████| 2048/2048 [01:07<00:00, 30.13it/s]\n",
      "Generating embeddings: 100%|██████████| 2048/2048 [01:08<00:00, 29.91it/s]\n",
      "Generating embeddings: 100%|██████████| 2048/2048 [01:07<00:00, 30.24it/s]\n",
      "Generating embeddings: 100%|██████████| 2048/2048 [01:06<00:00, 30.59it/s]\n",
      "Generating embeddings: 100%|██████████| 2048/2048 [01:06<00:00, 30.80it/s]\n",
      "Generating embeddings: 100%|██████████| 2048/2048 [01:08<00:00, 30.04it/s]\n",
      "Generating embeddings: 100%|██████████| 2048/2048 [01:06<00:00, 30.65it/s]\n",
      "Generating embeddings: 100%|██████████| 2048/2048 [01:06<00:00, 30.99it/s]\n",
      "Generating embeddings: 100%|██████████| 2048/2048 [01:07<00:00, 30.42it/s]\n",
      "Generating embeddings: 100%|██████████| 2048/2048 [01:04<00:00, 31.91it/s]\n",
      "Generating embeddings: 100%|██████████| 2048/2048 [01:05<00:00, 31.06it/s]\n",
      "Generating embeddings: 100%|██████████| 2048/2048 [01:03<00:00, 32.35it/s]\n",
      "Generating embeddings: 100%|██████████| 2048/2048 [01:03<00:00, 32.38it/s]\n",
      "Generating embeddings: 100%|██████████| 2048/2048 [01:02<00:00, 32.62it/s]\n",
      "Generating embeddings: 100%|██████████| 2048/2048 [01:03<00:00, 32.04it/s]\n",
      "Generating embeddings: 100%|██████████| 2048/2048 [01:04<00:00, 31.56it/s]\n",
      "Generating embeddings: 100%|██████████| 2048/2048 [01:03<00:00, 32.04it/s]\n",
      "Generating embeddings: 100%|██████████| 2048/2048 [01:02<00:00, 32.64it/s]\n",
      "Generating embeddings: 100%|██████████| 2048/2048 [01:01<00:00, 33.32it/s]\n",
      "Generating embeddings: 100%|██████████| 2048/2048 [01:00<00:00, 33.81it/s]\n",
      "Generating embeddings: 100%|██████████| 2048/2048 [01:00<00:00, 34.07it/s]\n",
      "Generating embeddings: 100%|██████████| 2048/2048 [01:01<00:00, 33.22it/s]\n",
      "Generating embeddings: 100%|██████████| 723/723 [00:22<00:00, 32.01it/s]\n",
      "Embedding chunks:  93%|█████████▎| 56/60 [12:30:49<1:40:20, 1505.03s/it]"
     ]
    },
    {
     "name": "stdout",
     "output_type": "stream",
     "text": [
      "✅ Finished chunk 55 (550000–560000) in 25.19 min\n"
     ]
    },
    {
     "name": "stderr",
     "output_type": "stream",
     "text": [
      "Parsing nodes: 100%|██████████| 10000/10000 [00:56<00:00, 178.46it/s]\n",
      "Generating embeddings: 100%|██████████| 2048/2048 [00:59<00:00, 34.33it/s]\n",
      "Generating embeddings: 100%|██████████| 2048/2048 [01:06<00:00, 30.74it/s]\n",
      "Generating embeddings: 100%|██████████| 2048/2048 [01:07<00:00, 30.31it/s]\n",
      "Generating embeddings: 100%|██████████| 2048/2048 [01:07<00:00, 30.28it/s]\n",
      "Generating embeddings: 100%|██████████| 2048/2048 [01:07<00:00, 30.42it/s]\n",
      "Generating embeddings: 100%|██████████| 2048/2048 [01:04<00:00, 31.59it/s]\n",
      "Generating embeddings: 100%|██████████| 2048/2048 [01:06<00:00, 30.70it/s]\n",
      "Generating embeddings: 100%|██████████| 2048/2048 [01:05<00:00, 31.12it/s]\n",
      "Generating embeddings: 100%|██████████| 2048/2048 [01:00<00:00, 33.68it/s]\n",
      "Generating embeddings: 100%|██████████| 2048/2048 [00:52<00:00, 39.12it/s]\n",
      "Generating embeddings: 100%|██████████| 2048/2048 [00:51<00:00, 39.95it/s]\n",
      "Generating embeddings: 100%|██████████| 2048/2048 [01:08<00:00, 30.06it/s]\n",
      "Generating embeddings: 100%|██████████| 2048/2048 [01:06<00:00, 30.72it/s]\n",
      "Generating embeddings: 100%|██████████| 2048/2048 [01:07<00:00, 30.50it/s]\n",
      "Generating embeddings: 100%|██████████| 2048/2048 [01:06<00:00, 30.85it/s]\n",
      "Generating embeddings: 100%|██████████| 2048/2048 [01:06<00:00, 30.83it/s]\n",
      "Generating embeddings: 100%|██████████| 2048/2048 [01:04<00:00, 31.78it/s]\n",
      "Generating embeddings: 100%|██████████| 2048/2048 [01:04<00:00, 31.62it/s]\n",
      "Generating embeddings: 100%|██████████| 2048/2048 [01:02<00:00, 32.65it/s]\n",
      "Generating embeddings: 100%|██████████| 2048/2048 [00:57<00:00, 35.54it/s]\n",
      "Generating embeddings: 100%|██████████| 2048/2048 [00:56<00:00, 36.27it/s]\n",
      "Generating embeddings: 100%|██████████| 2048/2048 [01:08<00:00, 29.73it/s]\n",
      "Generating embeddings: 100%|██████████| 1860/1860 [01:01<00:00, 30.37it/s]\n",
      "Embedding chunks:  95%|█████████▌| 57/60 [12:56:18<1:15:36, 1512.19s/it]"
     ]
    },
    {
     "name": "stdout",
     "output_type": "stream",
     "text": [
      "✅ Finished chunk 56 (560000–570000) in 25.48 min\n"
     ]
    },
    {
     "name": "stderr",
     "output_type": "stream",
     "text": [
      "Parsing nodes: 100%|██████████| 10000/10000 [00:49<00:00, 200.33it/s]\n",
      "Generating embeddings: 100%|██████████| 2048/2048 [01:08<00:00, 29.69it/s]\n",
      "Generating embeddings: 100%|██████████| 2048/2048 [01:09<00:00, 29.48it/s]\n",
      "Generating embeddings: 100%|██████████| 2048/2048 [01:06<00:00, 30.79it/s]\n",
      "Generating embeddings: 100%|██████████| 2048/2048 [01:05<00:00, 31.15it/s]\n",
      "Generating embeddings: 100%|██████████| 2048/2048 [01:06<00:00, 30.93it/s]\n",
      "Generating embeddings: 100%|██████████| 2048/2048 [01:08<00:00, 29.71it/s]\n",
      "Generating embeddings: 100%|██████████| 2048/2048 [01:07<00:00, 30.29it/s]\n",
      "Generating embeddings: 100%|██████████| 2048/2048 [01:05<00:00, 31.14it/s]\n",
      "Generating embeddings: 100%|██████████| 2048/2048 [01:07<00:00, 30.45it/s]\n",
      "Generating embeddings: 100%|██████████| 2048/2048 [01:04<00:00, 31.84it/s]\n",
      "Generating embeddings: 100%|██████████| 2048/2048 [01:03<00:00, 32.29it/s]\n",
      "Generating embeddings: 100%|██████████| 2048/2048 [01:05<00:00, 31.17it/s]\n",
      "Generating embeddings: 100%|██████████| 2048/2048 [01:05<00:00, 31.20it/s]\n",
      "Generating embeddings: 100%|██████████| 2048/2048 [01:04<00:00, 31.97it/s]\n",
      "Generating embeddings: 100%|██████████| 2048/2048 [01:02<00:00, 32.67it/s]\n",
      "Generating embeddings: 100%|██████████| 2048/2048 [01:04<00:00, 31.54it/s]\n",
      "Generating embeddings: 100%|██████████| 2048/2048 [01:05<00:00, 31.13it/s]\n",
      "Generating embeddings: 100%|██████████| 2048/2048 [01:04<00:00, 31.66it/s]\n",
      "Generating embeddings: 100%|██████████| 2048/2048 [01:04<00:00, 31.78it/s]\n",
      "Generating embeddings: 100%|██████████| 2048/2048 [01:02<00:00, 32.80it/s]\n",
      "Generating embeddings: 100%|██████████| 905/905 [00:27<00:00, 32.60it/s]\n",
      "Embedding chunks:  97%|█████████▋| 58/60 [13:19:41<49:18, 1479.43s/it]  "
     ]
    },
    {
     "name": "stdout",
     "output_type": "stream",
     "text": [
      "✅ Finished chunk 57 (570000–580000) in 23.38 min\n"
     ]
    },
    {
     "name": "stderr",
     "output_type": "stream",
     "text": [
      "Parsing nodes: 100%|██████████| 10000/10000 [00:49<00:00, 203.23it/s]\n",
      "Generating embeddings: 100%|██████████| 2048/2048 [00:59<00:00, 34.45it/s]\n",
      "Generating embeddings: 100%|██████████| 2048/2048 [01:00<00:00, 33.84it/s]\n",
      "Generating embeddings: 100%|██████████| 2048/2048 [01:00<00:00, 33.83it/s]\n",
      "Generating embeddings: 100%|██████████| 2048/2048 [01:00<00:00, 33.66it/s]\n",
      "Generating embeddings: 100%|██████████| 2048/2048 [00:59<00:00, 34.59it/s]\n",
      "Generating embeddings: 100%|██████████| 2048/2048 [00:59<00:00, 34.65it/s]\n",
      "Generating embeddings: 100%|██████████| 2048/2048 [00:58<00:00, 34.74it/s]\n",
      "Generating embeddings: 100%|██████████| 2048/2048 [01:02<00:00, 32.77it/s]\n",
      "Generating embeddings: 100%|██████████| 2048/2048 [01:02<00:00, 32.60it/s]\n",
      "Generating embeddings: 100%|██████████| 2048/2048 [00:53<00:00, 37.94it/s]\n",
      "Generating embeddings: 100%|██████████| 2048/2048 [00:51<00:00, 39.64it/s]\n",
      "Generating embeddings: 100%|██████████| 2048/2048 [00:58<00:00, 34.73it/s]\n",
      "Generating embeddings: 100%|██████████| 2048/2048 [00:55<00:00, 36.70it/s]\n",
      "Generating embeddings: 100%|██████████| 2048/2048 [00:53<00:00, 38.37it/s]\n",
      "Generating embeddings: 100%|██████████| 2048/2048 [00:59<00:00, 34.15it/s]\n",
      "Generating embeddings: 100%|██████████| 2048/2048 [01:10<00:00, 29.11it/s]\n",
      "Generating embeddings: 100%|██████████| 2048/2048 [01:09<00:00, 29.64it/s]\n",
      "Generating embeddings: 100%|██████████| 2048/2048 [01:09<00:00, 29.65it/s]\n",
      "Generating embeddings: 100%|██████████| 2048/2048 [01:09<00:00, 29.39it/s]\n",
      "Generating embeddings: 100%|██████████| 2048/2048 [01:08<00:00, 29.77it/s]\n",
      "Generating embeddings: 100%|██████████| 2048/2048 [01:10<00:00, 29.12it/s]\n",
      "Generating embeddings: 100%|██████████| 455/455 [00:15<00:00, 30.32it/s]\n",
      "Embedding chunks:  98%|█████████▊| 59/60 [13:42:31<24:06, 1446.66s/it]"
     ]
    },
    {
     "name": "stdout",
     "output_type": "stream",
     "text": [
      "✅ Finished chunk 58 (580000–590000) in 22.84 min\n"
     ]
    },
    {
     "name": "stderr",
     "output_type": "stream",
     "text": [
      "Parsing nodes: 100%|██████████| 4603/4603 [00:17<00:00, 261.34it/s]\n",
      "Generating embeddings: 100%|██████████| 2048/2048 [01:10<00:00, 28.90it/s]\n",
      "Generating embeddings: 100%|██████████| 2048/2048 [01:07<00:00, 30.26it/s]\n",
      "Generating embeddings: 100%|██████████| 2048/2048 [01:08<00:00, 29.74it/s]\n",
      "Generating embeddings: 100%|██████████| 2048/2048 [01:08<00:00, 29.93it/s]\n",
      "Generating embeddings: 100%|██████████| 2048/2048 [01:08<00:00, 29.92it/s]\n",
      "Generating embeddings: 100%|██████████| 2048/2048 [01:07<00:00, 30.36it/s]\n",
      "Generating embeddings: 100%|██████████| 2048/2048 [01:06<00:00, 30.94it/s]\n",
      "Generating embeddings: 100%|██████████| 2048/2048 [01:08<00:00, 30.00it/s]\n",
      "Generating embeddings: 100%|██████████| 85/85 [00:03<00:00, 24.50it/s]\n",
      "Embedding chunks: 100%|██████████| 60/60 [13:52:02<00:00, 832.04s/it] "
     ]
    },
    {
     "name": "stdout",
     "output_type": "stream",
     "text": [
      "✅ Finished chunk 59 (590000–594603) in 9.52 min\n"
     ]
    },
    {
     "name": "stderr",
     "output_type": "stream",
     "text": [
      "\n"
     ]
    }
   ],
   "source": [
    "with tqdm(total=total_chunks, desc=\"Embedding chunks\", leave=True) as pbar:\n",
    "    pbar.update(len(completed))  # skip completed\n",
    "\n",
    "    for i in range(0, len(docs), batch_size):\n",
    "        chunk_id = i // batch_size\n",
    "        if chunk_id in completed:\n",
    "            continue\n",
    "\n",
    "        chunk = docs[i:i + batch_size]\n",
    "\n",
    "        start = time.time()\n",
    "        VectorStoreIndex.from_documents(\n",
    "            chunk,\n",
    "            vector_store=vector_store,\n",
    "            show_progress=True      # 👈 inner progress bar\n",
    "        )\n",
    "        elapsed = time.time() - start\n",
    "\n",
    "        # ✅ Save progress\n",
    "        completed.add(chunk_id)\n",
    "        with open(checkpoint_file, \"w\") as f:\n",
    "            json.dump(sorted(completed), f)\n",
    "\n",
    "        pbar.update(1)\n",
    "        print(f\"✅ Finished chunk {chunk_id} ({i}–{i+len(chunk)}) in {elapsed/60:.2f} min\")\n"
   ]
  }
 ],
 "metadata": {
  "kernelspec": {
   "display_name": ".venv",
   "language": "python",
   "name": "python3"
  },
  "language_info": {
   "codemirror_mode": {
    "name": "ipython",
    "version": 3
   },
   "file_extension": ".py",
   "mimetype": "text/x-python",
   "name": "python",
   "nbconvert_exporter": "python",
   "pygments_lexer": "ipython3",
   "version": "3.12.10"
  }
 },
 "nbformat": 4,
 "nbformat_minor": 5
}
