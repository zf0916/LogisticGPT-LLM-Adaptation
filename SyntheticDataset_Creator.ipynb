{
 "cells": [
  {
   "cell_type": "markdown",
   "id": "d582e2c4",
   "metadata": {},
   "source": [
    "# Notebook ② – Synthetic Q‑A & Report Dataset Creator"
   ]
  },
  {
   "cell_type": "markdown",
   "id": "7af912c2",
   "metadata": {},
   "source": [
    "This notebook builds a 50‑item gold set for evaluation.  \n",
    "You can increase `NUM_EXAMPLES` if you want a larger dev set."
   ]
  },
  {
   "cell_type": "code",
   "execution_count": 3,
   "id": "d1013d17",
   "metadata": {},
   "outputs": [
    {
     "name": "stdout",
     "output_type": "stream",
     "text": [
      "Loading llama_index.core.storage.kvstore.simple_kvstore from lade_chroma\\docstore.json.\n"
     ]
    },
    {
     "ename": "FileNotFoundError",
     "evalue": "[Errno 2] No such file or directory: 'c:/Users/Admin/Documents/Research LaDe/lade_rag_pipeline/lade_chroma/docstore.json'",
     "output_type": "error",
     "traceback": [
      "\u001b[31m---------------------------------------------------------------------------\u001b[39m",
      "\u001b[31mFileNotFoundError\u001b[39m                         Traceback (most recent call last)",
      "\u001b[36mCell\u001b[39m\u001b[36m \u001b[39m\u001b[32mIn[3]\u001b[39m\u001b[32m, line 8\u001b[39m\n\u001b[32m      5\u001b[39m NUM_EXAMPLES = \u001b[32m50\u001b[39m\n\u001b[32m      7\u001b[39m \u001b[38;5;66;03m# ✅ Create storage context and load index from disk\u001b[39;00m\n\u001b[32m----> \u001b[39m\u001b[32m8\u001b[39m storage_context = \u001b[43mStorageContext\u001b[49m\u001b[43m.\u001b[49m\u001b[43mfrom_defaults\u001b[49m\u001b[43m(\u001b[49m\u001b[43mpersist_dir\u001b[49m\u001b[43m=\u001b[49m\u001b[33;43m\"\u001b[39;49m\u001b[33;43mlade_chroma\u001b[39;49m\u001b[33;43m\"\u001b[39;49m\u001b[43m)\u001b[49m\n\u001b[32m      9\u001b[39m index = load_index_from_storage(storage_context)\n\u001b[32m     10\u001b[39m retriever = index.as_retriever(search_kwargs={\u001b[33m\"\u001b[39m\u001b[33mk\u001b[39m\u001b[33m\"\u001b[39m: \u001b[32m1\u001b[39m})\n",
      "\u001b[36mFile \u001b[39m\u001b[32mc:\\Users\\Admin\\Documents\\Research LaDe\\lade_rag_pipeline\\.venv\\Lib\\site-packages\\llama_index\\core\\storage\\storage_context.py:113\u001b[39m, in \u001b[36mStorageContext.from_defaults\u001b[39m\u001b[34m(cls, docstore, index_store, vector_store, image_store, vector_stores, graph_store, property_graph_store, persist_dir, fs)\u001b[39m\n\u001b[32m    111\u001b[39m         vector_stores[IMAGE_VECTOR_STORE_NAMESPACE] = image_store\n\u001b[32m    112\u001b[39m \u001b[38;5;28;01melse\u001b[39;00m:\n\u001b[32m--> \u001b[39m\u001b[32m113\u001b[39m     docstore = docstore \u001b[38;5;129;01mor\u001b[39;00m \u001b[43mSimpleDocumentStore\u001b[49m\u001b[43m.\u001b[49m\u001b[43mfrom_persist_dir\u001b[49m\u001b[43m(\u001b[49m\n\u001b[32m    114\u001b[39m \u001b[43m        \u001b[49m\u001b[43mpersist_dir\u001b[49m\u001b[43m,\u001b[49m\u001b[43m \u001b[49m\u001b[43mfs\u001b[49m\u001b[43m=\u001b[49m\u001b[43mfs\u001b[49m\n\u001b[32m    115\u001b[39m \u001b[43m    \u001b[49m\u001b[43m)\u001b[49m\n\u001b[32m    116\u001b[39m     index_store = index_store \u001b[38;5;129;01mor\u001b[39;00m SimpleIndexStore.from_persist_dir(\n\u001b[32m    117\u001b[39m         persist_dir, fs=fs\n\u001b[32m    118\u001b[39m     )\n\u001b[32m    119\u001b[39m     graph_store = graph_store \u001b[38;5;129;01mor\u001b[39;00m SimpleGraphStore.from_persist_dir(\n\u001b[32m    120\u001b[39m         persist_dir, fs=fs\n\u001b[32m    121\u001b[39m     )\n",
      "\u001b[36mFile \u001b[39m\u001b[32mc:\\Users\\Admin\\Documents\\Research LaDe\\lade_rag_pipeline\\.venv\\Lib\\site-packages\\llama_index\\core\\storage\\docstore\\simple_docstore.py:59\u001b[39m, in \u001b[36mSimpleDocumentStore.from_persist_dir\u001b[39m\u001b[34m(cls, persist_dir, namespace, fs)\u001b[39m\n\u001b[32m     57\u001b[39m \u001b[38;5;28;01melse\u001b[39;00m:\n\u001b[32m     58\u001b[39m     persist_path = os.path.join(persist_dir, DEFAULT_PERSIST_FNAME)\n\u001b[32m---> \u001b[39m\u001b[32m59\u001b[39m \u001b[38;5;28;01mreturn\u001b[39;00m \u001b[38;5;28;43mcls\u001b[39;49m\u001b[43m.\u001b[49m\u001b[43mfrom_persist_path\u001b[49m\u001b[43m(\u001b[49m\u001b[43mpersist_path\u001b[49m\u001b[43m,\u001b[49m\u001b[43m \u001b[49m\u001b[43mnamespace\u001b[49m\u001b[43m=\u001b[49m\u001b[43mnamespace\u001b[49m\u001b[43m,\u001b[49m\u001b[43m \u001b[49m\u001b[43mfs\u001b[49m\u001b[43m=\u001b[49m\u001b[43mfs\u001b[49m\u001b[43m)\u001b[49m\n",
      "\u001b[36mFile \u001b[39m\u001b[32mc:\\Users\\Admin\\Documents\\Research LaDe\\lade_rag_pipeline\\.venv\\Lib\\site-packages\\llama_index\\core\\storage\\docstore\\simple_docstore.py:78\u001b[39m, in \u001b[36mSimpleDocumentStore.from_persist_path\u001b[39m\u001b[34m(cls, persist_path, namespace, fs)\u001b[39m\n\u001b[32m     61\u001b[39m \u001b[38;5;129m@classmethod\u001b[39m\n\u001b[32m     62\u001b[39m \u001b[38;5;28;01mdef\u001b[39;00m\u001b[38;5;250m \u001b[39m\u001b[34mfrom_persist_path\u001b[39m(\n\u001b[32m     63\u001b[39m     \u001b[38;5;28mcls\u001b[39m,\n\u001b[32m   (...)\u001b[39m\u001b[32m     66\u001b[39m     fs: Optional[fsspec.AbstractFileSystem] = \u001b[38;5;28;01mNone\u001b[39;00m,\n\u001b[32m     67\u001b[39m ) -> \u001b[33m\"\u001b[39m\u001b[33mSimpleDocumentStore\u001b[39m\u001b[33m\"\u001b[39m:\n\u001b[32m     68\u001b[39m \u001b[38;5;250m    \u001b[39m\u001b[33;03m\"\"\"\u001b[39;00m\n\u001b[32m     69\u001b[39m \u001b[33;03m    Create a SimpleDocumentStore from a persist path.\u001b[39;00m\n\u001b[32m     70\u001b[39m \n\u001b[32m   (...)\u001b[39m\u001b[32m     76\u001b[39m \n\u001b[32m     77\u001b[39m \u001b[33;03m    \"\"\"\u001b[39;00m\n\u001b[32m---> \u001b[39m\u001b[32m78\u001b[39m     simple_kvstore = \u001b[43mSimpleKVStore\u001b[49m\u001b[43m.\u001b[49m\u001b[43mfrom_persist_path\u001b[49m\u001b[43m(\u001b[49m\u001b[43mpersist_path\u001b[49m\u001b[43m,\u001b[49m\u001b[43m \u001b[49m\u001b[43mfs\u001b[49m\u001b[43m=\u001b[49m\u001b[43mfs\u001b[49m\u001b[43m)\u001b[49m\n\u001b[32m     79\u001b[39m     \u001b[38;5;28;01mreturn\u001b[39;00m \u001b[38;5;28mcls\u001b[39m(simple_kvstore, namespace)\n",
      "\u001b[36mFile \u001b[39m\u001b[32mc:\\Users\\Admin\\Documents\\Research LaDe\\lade_rag_pipeline\\.venv\\Lib\\site-packages\\llama_index\\core\\storage\\kvstore\\simple_kvstore.py:55\u001b[39m, in \u001b[36mSimpleKVStore.from_persist_path\u001b[39m\u001b[34m(cls, persist_path, fs)\u001b[39m\n\u001b[32m     53\u001b[39m logger.debug(\u001b[33mf\u001b[39m\u001b[33m\"\u001b[39m\u001b[33mLoading \u001b[39m\u001b[38;5;132;01m{\u001b[39;00m\u001b[34m__name__\u001b[39m\u001b[38;5;132;01m}\u001b[39;00m\u001b[33m from \u001b[39m\u001b[38;5;132;01m{\u001b[39;00mpersist_path\u001b[38;5;132;01m}\u001b[39;00m\u001b[33m.\u001b[39m\u001b[33m\"\u001b[39m)\n\u001b[32m     54\u001b[39m \u001b[38;5;28mprint\u001b[39m(\u001b[33mf\u001b[39m\u001b[33m\"\u001b[39m\u001b[33mLoading \u001b[39m\u001b[38;5;132;01m{\u001b[39;00m\u001b[34m__name__\u001b[39m\u001b[38;5;132;01m}\u001b[39;00m\u001b[33m from \u001b[39m\u001b[38;5;132;01m{\u001b[39;00mpersist_path\u001b[38;5;132;01m}\u001b[39;00m\u001b[33m.\u001b[39m\u001b[33m\"\u001b[39m)\n\u001b[32m---> \u001b[39m\u001b[32m55\u001b[39m \u001b[38;5;28;01mwith\u001b[39;00m \u001b[43mfs\u001b[49m\u001b[43m.\u001b[49m\u001b[43mopen\u001b[49m\u001b[43m(\u001b[49m\u001b[43mpersist_path\u001b[49m\u001b[43m,\u001b[49m\u001b[43m \u001b[49m\u001b[33;43m\"\u001b[39;49m\u001b[33;43mrb\u001b[39;49m\u001b[33;43m\"\u001b[39;49m\u001b[43m)\u001b[49m \u001b[38;5;28;01mas\u001b[39;00m f:\n\u001b[32m     56\u001b[39m     data = json.load(f)\n\u001b[32m     57\u001b[39m \u001b[38;5;28;01mreturn\u001b[39;00m \u001b[38;5;28mcls\u001b[39m(data)\n",
      "\u001b[36mFile \u001b[39m\u001b[32mc:\\Users\\Admin\\Documents\\Research LaDe\\lade_rag_pipeline\\.venv\\Lib\\site-packages\\fsspec\\spec.py:1338\u001b[39m, in \u001b[36mAbstractFileSystem.open\u001b[39m\u001b[34m(self, path, mode, block_size, cache_options, compression, **kwargs)\u001b[39m\n\u001b[32m   1336\u001b[39m \u001b[38;5;28;01melse\u001b[39;00m:\n\u001b[32m   1337\u001b[39m     ac = kwargs.pop(\u001b[33m\"\u001b[39m\u001b[33mautocommit\u001b[39m\u001b[33m\"\u001b[39m, \u001b[38;5;129;01mnot\u001b[39;00m \u001b[38;5;28mself\u001b[39m._intrans)\n\u001b[32m-> \u001b[39m\u001b[32m1338\u001b[39m     f = \u001b[38;5;28;43mself\u001b[39;49m\u001b[43m.\u001b[49m\u001b[43m_open\u001b[49m\u001b[43m(\u001b[49m\n\u001b[32m   1339\u001b[39m \u001b[43m        \u001b[49m\u001b[43mpath\u001b[49m\u001b[43m,\u001b[49m\n\u001b[32m   1340\u001b[39m \u001b[43m        \u001b[49m\u001b[43mmode\u001b[49m\u001b[43m=\u001b[49m\u001b[43mmode\u001b[49m\u001b[43m,\u001b[49m\n\u001b[32m   1341\u001b[39m \u001b[43m        \u001b[49m\u001b[43mblock_size\u001b[49m\u001b[43m=\u001b[49m\u001b[43mblock_size\u001b[49m\u001b[43m,\u001b[49m\n\u001b[32m   1342\u001b[39m \u001b[43m        \u001b[49m\u001b[43mautocommit\u001b[49m\u001b[43m=\u001b[49m\u001b[43mac\u001b[49m\u001b[43m,\u001b[49m\n\u001b[32m   1343\u001b[39m \u001b[43m        \u001b[49m\u001b[43mcache_options\u001b[49m\u001b[43m=\u001b[49m\u001b[43mcache_options\u001b[49m\u001b[43m,\u001b[49m\n\u001b[32m   1344\u001b[39m \u001b[43m        \u001b[49m\u001b[43m*\u001b[49m\u001b[43m*\u001b[49m\u001b[43mkwargs\u001b[49m\u001b[43m,\u001b[49m\n\u001b[32m   1345\u001b[39m \u001b[43m    \u001b[49m\u001b[43m)\u001b[49m\n\u001b[32m   1346\u001b[39m     \u001b[38;5;28;01mif\u001b[39;00m compression \u001b[38;5;129;01mis\u001b[39;00m \u001b[38;5;129;01mnot\u001b[39;00m \u001b[38;5;28;01mNone\u001b[39;00m:\n\u001b[32m   1347\u001b[39m         \u001b[38;5;28;01mfrom\u001b[39;00m\u001b[38;5;250m \u001b[39m\u001b[34;01mfsspec\u001b[39;00m\u001b[34;01m.\u001b[39;00m\u001b[34;01mcompression\u001b[39;00m\u001b[38;5;250m \u001b[39m\u001b[38;5;28;01mimport\u001b[39;00m compr\n",
      "\u001b[36mFile \u001b[39m\u001b[32mc:\\Users\\Admin\\Documents\\Research LaDe\\lade_rag_pipeline\\.venv\\Lib\\site-packages\\fsspec\\implementations\\local.py:206\u001b[39m, in \u001b[36mLocalFileSystem._open\u001b[39m\u001b[34m(self, path, mode, block_size, **kwargs)\u001b[39m\n\u001b[32m    204\u001b[39m \u001b[38;5;28;01mif\u001b[39;00m \u001b[38;5;28mself\u001b[39m.auto_mkdir \u001b[38;5;129;01mand\u001b[39;00m \u001b[33m\"\u001b[39m\u001b[33mw\u001b[39m\u001b[33m\"\u001b[39m \u001b[38;5;129;01min\u001b[39;00m mode:\n\u001b[32m    205\u001b[39m     \u001b[38;5;28mself\u001b[39m.makedirs(\u001b[38;5;28mself\u001b[39m._parent(path), exist_ok=\u001b[38;5;28;01mTrue\u001b[39;00m)\n\u001b[32m--> \u001b[39m\u001b[32m206\u001b[39m \u001b[38;5;28;01mreturn\u001b[39;00m \u001b[43mLocalFileOpener\u001b[49m\u001b[43m(\u001b[49m\u001b[43mpath\u001b[49m\u001b[43m,\u001b[49m\u001b[43m \u001b[49m\u001b[43mmode\u001b[49m\u001b[43m,\u001b[49m\u001b[43m \u001b[49m\u001b[43mfs\u001b[49m\u001b[43m=\u001b[49m\u001b[38;5;28;43mself\u001b[39;49m\u001b[43m,\u001b[49m\u001b[43m \u001b[49m\u001b[43m*\u001b[49m\u001b[43m*\u001b[49m\u001b[43mkwargs\u001b[49m\u001b[43m)\u001b[49m\n",
      "\u001b[36mFile \u001b[39m\u001b[32mc:\\Users\\Admin\\Documents\\Research LaDe\\lade_rag_pipeline\\.venv\\Lib\\site-packages\\fsspec\\implementations\\local.py:383\u001b[39m, in \u001b[36mLocalFileOpener.__init__\u001b[39m\u001b[34m(self, path, mode, autocommit, fs, compression, **kwargs)\u001b[39m\n\u001b[32m    381\u001b[39m \u001b[38;5;28mself\u001b[39m.compression = get_compression(path, compression)\n\u001b[32m    382\u001b[39m \u001b[38;5;28mself\u001b[39m.blocksize = io.DEFAULT_BUFFER_SIZE\n\u001b[32m--> \u001b[39m\u001b[32m383\u001b[39m \u001b[38;5;28;43mself\u001b[39;49m\u001b[43m.\u001b[49m\u001b[43m_open\u001b[49m\u001b[43m(\u001b[49m\u001b[43m)\u001b[49m\n",
      "\u001b[36mFile \u001b[39m\u001b[32mc:\\Users\\Admin\\Documents\\Research LaDe\\lade_rag_pipeline\\.venv\\Lib\\site-packages\\fsspec\\implementations\\local.py:388\u001b[39m, in \u001b[36mLocalFileOpener._open\u001b[39m\u001b[34m(self)\u001b[39m\n\u001b[32m    386\u001b[39m \u001b[38;5;28;01mif\u001b[39;00m \u001b[38;5;28mself\u001b[39m.f \u001b[38;5;129;01mis\u001b[39;00m \u001b[38;5;28;01mNone\u001b[39;00m \u001b[38;5;129;01mor\u001b[39;00m \u001b[38;5;28mself\u001b[39m.f.closed:\n\u001b[32m    387\u001b[39m     \u001b[38;5;28;01mif\u001b[39;00m \u001b[38;5;28mself\u001b[39m.autocommit \u001b[38;5;129;01mor\u001b[39;00m \u001b[33m\"\u001b[39m\u001b[33mw\u001b[39m\u001b[33m\"\u001b[39m \u001b[38;5;129;01mnot\u001b[39;00m \u001b[38;5;129;01min\u001b[39;00m \u001b[38;5;28mself\u001b[39m.mode:\n\u001b[32m--> \u001b[39m\u001b[32m388\u001b[39m         \u001b[38;5;28mself\u001b[39m.f = \u001b[38;5;28;43mopen\u001b[39;49m\u001b[43m(\u001b[49m\u001b[38;5;28;43mself\u001b[39;49m\u001b[43m.\u001b[49m\u001b[43mpath\u001b[49m\u001b[43m,\u001b[49m\u001b[43m \u001b[49m\u001b[43mmode\u001b[49m\u001b[43m=\u001b[49m\u001b[38;5;28;43mself\u001b[39;49m\u001b[43m.\u001b[49m\u001b[43mmode\u001b[49m\u001b[43m)\u001b[49m\n\u001b[32m    389\u001b[39m         \u001b[38;5;28;01mif\u001b[39;00m \u001b[38;5;28mself\u001b[39m.compression:\n\u001b[32m    390\u001b[39m             compress = compr[\u001b[38;5;28mself\u001b[39m.compression]\n",
      "\u001b[31mFileNotFoundError\u001b[39m: [Errno 2] No such file or directory: 'c:/Users/Admin/Documents/Research LaDe/lade_rag_pipeline/lade_chroma/docstore.json'"
     ]
    }
   ],
   "source": [
    "import random, json, pandas as pd, numpy as np, datetime as dt\n",
    "from pathlib import Path\n",
    "from llama_index.core import StorageContext, load_index_from_storage, QueryBundle\n",
    "\n",
    "NUM_EXAMPLES = 50\n",
    "\n",
    "# ✅ Create storage context and load index from disk\n",
    "storage_context = StorageContext.from_defaults(persist_dir=\"lade_chroma\")\n",
    "index = load_index_from_storage(storage_context)\n",
    "retriever = index.as_retriever(search_kwargs={\"k\": 1})\n"
   ]
  },
  {
   "cell_type": "code",
   "execution_count": null,
   "id": "ca4eb232",
   "metadata": {},
   "outputs": [],
   "source": [
    "def kpi_count_packages(doc_json):\n",
    "    return len(json.loads(doc_json))\n",
    "\n",
    "templates = [\n",
    "    \"How many packages did courier {cid} deliver on {date}?\",\n",
    "    \"Total parcels for courier {cid} on {date}?\"\n",
    "]\n",
    "examples = []\n",
    "rng = random.Random(42)\n",
    "\n",
    "for _ in range(NUM_EXAMPLES):\n",
    "    node = random.choice(index.docstore.get_nodes())\n",
    "    cid = node.metadata['courier']\n",
    "    date = node.metadata['date']\n",
    "    question = rng.choice(templates).format(cid=cid, date=date)\n",
    "    answer = kpi_count_packages(node.text)\n",
    "    examples.append({\n",
    "        \"question\": question,\n",
    "        \"answer\": str(answer),\n",
    "        \"doc_id\": node.node_id,\n",
    "        \"context\": node.text\n",
    "    })\n",
    "pd.DataFrame(examples).to_csv(\"eval_qa50.csv\", index=False)\n",
    "print(\"Saved eval_qa50.csv\")\n"
   ]
  },
  {
   "cell_type": "markdown",
   "id": "7b0e5dae",
   "metadata": {},
   "source": [
    "### Optional polishing with GPT‑4o  \n",
    "Uncomment and set `OPENAI_API_KEY` to paraphrase numeric answers into full sentences."
   ]
  },
  {
   "cell_type": "code",
   "execution_count": null,
   "id": "eeb581f7",
   "metadata": {},
   "outputs": [],
   "source": [
    "# import os, openai, pandas as pd\n",
    "# openai.api_key = os.getenv(\"OPENAI_API_KEY\")\n",
    "# df = pd.read_csv(\"eval_qa50.csv\")\n",
    "# def polish(row):\n",
    "#     prompt = f\"Write a one‑sentence answer: {row['answer']} packages.\"\n",
    "#     return openai.ChatCompletion.create(model=\"gpt-4o\", messages=[{\"role\":\"user\",\"content\":prompt}]).choices[0].message.content\n",
    "# df['answer'] = df.apply(polish, axis=1)\n",
    "# df.to_csv(\"eval_qa50_polished.csv\", index=False)\n"
   ]
  },
  {
   "cell_type": "markdown",
   "id": "1b374d7e",
   "metadata": {},
   "source": [
    "> **Next**: run `RAG_Pipeline_Evaluation.ipynb`."
   ]
  }
 ],
 "metadata": {
  "kernelspec": {
   "display_name": ".venv",
   "language": "python",
   "name": "python3"
  },
  "language_info": {
   "codemirror_mode": {
    "name": "ipython",
    "version": 3
   },
   "file_extension": ".py",
   "mimetype": "text/x-python",
   "name": "python",
   "nbconvert_exporter": "python",
   "pygments_lexer": "ipython3",
   "version": "3.12.10"
  }
 },
 "nbformat": 4,
 "nbformat_minor": 5
}
